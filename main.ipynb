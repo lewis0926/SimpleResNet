{
 "cells": [
  {
   "cell_type": "code",
   "execution_count": 1,
   "id": "74d44e25",
   "metadata": {},
   "outputs": [],
   "source": [
    "import torch\n",
    "import torch.nn as nn\n",
    "import torchvision\n",
    "import torchvision.transforms as transform\n",
    "from torch.utils.data import DataLoader, random_split\n",
    "import matplotlib.pyplot as plt\n",
    "\n",
    "from model import ResnetX\n",
    "from train import train, acc_func, train_constant_lr\n",
    "from utility import get_default_device, DeviceDataLoader, to_device"
   ]
  },
  {
   "cell_type": "code",
   "execution_count": 2,
   "id": "e910a849",
   "metadata": {},
   "outputs": [
    {
     "name": "stdout",
     "output_type": "stream",
     "text": [
      "Files already downloaded and verified\n",
      "Files already downloaded and verified\n"
     ]
    }
   ],
   "source": [
    "data_statistics = ((0.5, 0.5, 0.5), (0.5, 0.5, 0.5))    # (mean, s.d.)\n",
    "\n",
    "train_transforms = transform.Compose([transform.RandomCrop(32, padding=4, padding_mode=\"reflect\"),\n",
    "                                      transform.RandomHorizontalFlip(),\n",
    "                                      transform.ToTensor(),\n",
    "                                      transform.Normalize(*data_statistics, inplace=True)])\n",
    "\n",
    "test_transforms = transform.Compose([transform.ToTensor(),\n",
    "                                     transform.Normalize(*data_statistics, inplace=True)])\n",
    "\n",
    "train_dataset = torchvision.datasets.CIFAR10(root=\"./Datasets/\",\n",
    "                                             train=True,\n",
    "                                             transform=train_transforms,\n",
    "                                             download=True)\n",
    "\n",
    "test_dataset = torchvision.datasets.CIFAR10(root=\"./Datasets/\",\n",
    "                                            train=False,\n",
    "                                            transform=test_transforms,\n",
    "                                            download=True)\n",
    "\n",
    "validation_ratio = 0.2\n",
    "train_dataset, validation_dataset = random_split(train_dataset, [int((1 - validation_ratio) * len(train_dataset)), \n",
    "                                                                 int(validation_ratio * len(train_dataset))])"
   ]
  },
  {
   "cell_type": "code",
   "execution_count": 3,
   "id": "81cbae28",
   "metadata": {},
   "outputs": [],
   "source": [
    "batch_size = 32\n",
    "train_loader = DataLoader(train_dataset, batch_size, shuffle=True, pin_memory=True)\n",
    "validation_loader = DataLoader(validation_dataset, batch_size, shuffle=True, pin_memory=True)\n",
    "test_loader = DataLoader(test_dataset, batch_size, shuffle=True, pin_memory=True)"
   ]
  },
  {
   "cell_type": "code",
   "execution_count": 4,
   "id": "b52d7efa",
   "metadata": {
    "scrolled": true
   },
   "outputs": [
    {
     "name": "stdout",
     "output_type": "stream",
     "text": [
      "ResnetX(\n",
      "  (conv1): Sequential(\n",
      "    (0): Conv2d(3, 64, kernel_size=(3, 3), stride=(1, 1), padding=(1, 1))\n",
      "    (1): BatchNorm2d(64, eps=1e-05, momentum=0.1, affine=True, track_running_stats=True)\n",
      "    (2): ReLU(inplace=True)\n",
      "  )\n",
      "  (conv2): Sequential(\n",
      "    (0): Conv2d(64, 128, kernel_size=(3, 3), stride=(1, 1), padding=(1, 1))\n",
      "    (1): BatchNorm2d(128, eps=1e-05, momentum=0.1, affine=True, track_running_stats=True)\n",
      "    (2): ReLU(inplace=True)\n",
      "    (3): MaxPool2d(kernel_size=2, stride=2, padding=0, dilation=1, ceil_mode=False)\n",
      "  )\n",
      "  (res1): Sequential(\n",
      "    (conv1res1): Sequential(\n",
      "      (0): Conv2d(128, 128, kernel_size=(3, 3), stride=(1, 1), padding=(1, 1))\n",
      "      (1): BatchNorm2d(128, eps=1e-05, momentum=0.1, affine=True, track_running_stats=True)\n",
      "      (2): ReLU(inplace=True)\n",
      "    )\n",
      "    (conv2res1): Sequential(\n",
      "      (0): Conv2d(128, 128, kernel_size=(3, 3), stride=(1, 1), padding=(1, 1))\n",
      "      (1): BatchNorm2d(128, eps=1e-05, momentum=0.1, affine=True, track_running_stats=True)\n",
      "      (2): ReLU(inplace=True)\n",
      "    )\n",
      "  )\n",
      "  (conv3): Sequential(\n",
      "    (0): Conv2d(128, 256, kernel_size=(3, 3), stride=(1, 1), padding=(1, 1))\n",
      "    (1): BatchNorm2d(256, eps=1e-05, momentum=0.1, affine=True, track_running_stats=True)\n",
      "    (2): ReLU(inplace=True)\n",
      "    (3): MaxPool2d(kernel_size=2, stride=2, padding=0, dilation=1, ceil_mode=False)\n",
      "  )\n",
      "  (conv4): Sequential(\n",
      "    (0): Conv2d(256, 512, kernel_size=(3, 3), stride=(1, 1), padding=(1, 1))\n",
      "    (1): BatchNorm2d(512, eps=1e-05, momentum=0.1, affine=True, track_running_stats=True)\n",
      "    (2): ReLU(inplace=True)\n",
      "    (3): MaxPool2d(kernel_size=2, stride=2, padding=0, dilation=1, ceil_mode=False)\n",
      "  )\n",
      "  (res2): Sequential(\n",
      "    (conv1res2): Sequential(\n",
      "      (0): Conv2d(512, 512, kernel_size=(3, 3), stride=(1, 1), padding=(1, 1))\n",
      "      (1): BatchNorm2d(512, eps=1e-05, momentum=0.1, affine=True, track_running_stats=True)\n",
      "      (2): ReLU(inplace=True)\n",
      "    )\n",
      "    (conv2res2): Sequential(\n",
      "      (0): Conv2d(512, 512, kernel_size=(3, 3), stride=(1, 1), padding=(1, 1))\n",
      "      (1): BatchNorm2d(512, eps=1e-05, momentum=0.1, affine=True, track_running_stats=True)\n",
      "      (2): ReLU(inplace=True)\n",
      "    )\n",
      "  )\n",
      "  (classifier): Sequential(\n",
      "    (0): MaxPool2d(kernel_size=4, stride=4, padding=0, dilation=1, ceil_mode=False)\n",
      "    (1): Flatten(start_dim=1, end_dim=-1)\n",
      "    (2): Dropout(p=0.2, inplace=False)\n",
      "    (3): Linear(in_features=512, out_features=10, bias=True)\n",
      "  )\n",
      ")\n"
     ]
    }
   ],
   "source": [
    "device = get_default_device()\n",
    "train_loader = DeviceDataLoader(train_loader, device)\n",
    "validation_loader = DeviceDataLoader(validation_loader, device)\n",
    "test_loader = DeviceDataLoader(test_loader, device)\n",
    "\n",
    "model = ResnetX(3, 10)\n",
    "model = to_device(model, device)\n",
    "print(model)"
   ]
  },
  {
   "cell_type": "code",
   "execution_count": 5,
   "id": "07c5f316",
   "metadata": {},
   "outputs": [
    {
     "name": "stdout",
     "output_type": "stream",
     "text": [
      "Epoch [1/10], Step [100/1250], Loss: 1.8144, Acc: 0.3438\n",
      "Epoch [1/10], Step [200/1250], Loss: 1.6685, Acc: 0.4375\n",
      "Epoch [1/10], Step [300/1250], Loss: 1.9911, Acc: 0.4062\n",
      "Epoch [1/10], Step [400/1250], Loss: 1.6473, Acc: 0.3438\n",
      "Epoch [1/10], Step [500/1250], Loss: 1.5723, Acc: 0.4062\n",
      "Epoch [1/10], Step [600/1250], Loss: 1.4003, Acc: 0.5312\n",
      "Epoch [1/10], Step [700/1250], Loss: 1.8812, Acc: 0.3125\n",
      "Epoch [1/10], Step [800/1250], Loss: 1.3570, Acc: 0.5312\n",
      "Epoch [1/10], Step [900/1250], Loss: 1.0175, Acc: 0.6875\n",
      "Epoch [1/10], Step [1000/1250], Loss: 1.2082, Acc: 0.5312\n",
      "Epoch [1/10], Step [1100/1250], Loss: 1.3438, Acc: 0.5312\n",
      "Epoch [1/10], Step [1200/1250], Loss: 1.7128, Acc: 0.5000\n",
      "Avg train loss: 1.5133, Avg train acc: 0.4795\n",
      "Avg validation loss: 1.3861, Avg validation acc: 0.5601\n",
      "Epoch [2/10], Step [100/1250], Loss: 1.4715, Acc: 0.5625\n",
      "Epoch [2/10], Step [200/1250], Loss: 1.4961, Acc: 0.5625\n",
      "Epoch [2/10], Step [300/1250], Loss: 1.0296, Acc: 0.6562\n",
      "Epoch [2/10], Step [400/1250], Loss: 1.1896, Acc: 0.5625\n",
      "Epoch [2/10], Step [500/1250], Loss: 1.0780, Acc: 0.5625\n",
      "Epoch [2/10], Step [600/1250], Loss: 0.6133, Acc: 0.7188\n",
      "Epoch [2/10], Step [700/1250], Loss: 0.9464, Acc: 0.5312\n",
      "Epoch [2/10], Step [800/1250], Loss: 0.7314, Acc: 0.7188\n",
      "Epoch [2/10], Step [900/1250], Loss: 1.0065, Acc: 0.5000\n",
      "Epoch [2/10], Step [1000/1250], Loss: 0.5116, Acc: 0.8125\n",
      "Epoch [2/10], Step [1100/1250], Loss: 0.6221, Acc: 0.7500\n",
      "Epoch [2/10], Step [1200/1250], Loss: 1.3418, Acc: 0.6250\n",
      "Avg train loss: 1.1217, Avg train acc: 0.6248\n",
      "Avg validation loss: 0.9479, Avg validation acc: 0.6680\n",
      "Epoch [3/10], Step [100/1250], Loss: 0.7087, Acc: 0.6875\n",
      "Epoch [3/10], Step [200/1250], Loss: 1.0208, Acc: 0.7188\n",
      "Epoch [3/10], Step [300/1250], Loss: 0.9515, Acc: 0.6250\n",
      "Epoch [3/10], Step [400/1250], Loss: 0.7866, Acc: 0.7812\n",
      "Epoch [3/10], Step [500/1250], Loss: 1.1846, Acc: 0.5625\n",
      "Epoch [3/10], Step [600/1250], Loss: 1.2016, Acc: 0.6875\n"
     ]
    },
    {
     "ename": "KeyboardInterrupt",
     "evalue": "",
     "output_type": "error",
     "traceback": [
      "\u001b[0;31m---------------------------------------------------------------------------\u001b[0m",
      "\u001b[0;31mKeyboardInterrupt\u001b[0m                         Traceback (most recent call last)",
      "\u001b[0;32m/var/folders/nv/3pxw169s5cb5p1d7g5g09k580000gn/T/ipykernel_66066/2688072932.py\u001b[0m in \u001b[0;36m<module>\u001b[0;34m\u001b[0m\n\u001b[1;32m      3\u001b[0m \u001b[0mloss_func\u001b[0m \u001b[0;34m=\u001b[0m \u001b[0mnn\u001b[0m\u001b[0;34m.\u001b[0m\u001b[0mfunctional\u001b[0m\u001b[0;34m.\u001b[0m\u001b[0mcross_entropy\u001b[0m\u001b[0;34m\u001b[0m\u001b[0;34m\u001b[0m\u001b[0m\n\u001b[1;32m      4\u001b[0m \u001b[0moptim\u001b[0m \u001b[0;34m=\u001b[0m \u001b[0mtorch\u001b[0m\u001b[0;34m.\u001b[0m\u001b[0moptim\u001b[0m\u001b[0;34m.\u001b[0m\u001b[0mAdam\u001b[0m\u001b[0;34m\u001b[0m\u001b[0;34m\u001b[0m\u001b[0m\n\u001b[0;32m----> 5\u001b[0;31m \u001b[0mresults\u001b[0m \u001b[0;34m=\u001b[0m \u001b[0mtrain\u001b[0m\u001b[0;34m(\u001b[0m\u001b[0mmodel\u001b[0m\u001b[0;34m,\u001b[0m \u001b[0mtrain_loader\u001b[0m\u001b[0;34m,\u001b[0m \u001b[0mvalidation_loader\u001b[0m\u001b[0;34m,\u001b[0m \u001b[0mepochs\u001b[0m\u001b[0;34m,\u001b[0m \u001b[0mmax_lr\u001b[0m\u001b[0;34m,\u001b[0m \u001b[0mloss_func\u001b[0m\u001b[0;34m,\u001b[0m \u001b[0moptim\u001b[0m\u001b[0;34m)\u001b[0m\u001b[0;34m\u001b[0m\u001b[0;34m\u001b[0m\u001b[0m\n\u001b[0m",
      "\u001b[0;32m/Volumes/GoogleDrive/My Drive/Poly/COMP5511 Artificial Intelligence Concepts/Project 2/Code/Extended_Part/train.py\u001b[0m in \u001b[0;36mtrain\u001b[0;34m(model, train_loader, validation_loader, epochs, max_lr, loss_func, optim)\u001b[0m\n\u001b[1;32m     33\u001b[0m             \u001b[0mtrain_accs\u001b[0m\u001b[0;34m.\u001b[0m\u001b[0mappend\u001b[0m\u001b[0;34m(\u001b[0m\u001b[0maccuracy\u001b[0m\u001b[0;34m)\u001b[0m\u001b[0;34m\u001b[0m\u001b[0;34m\u001b[0m\u001b[0m\n\u001b[1;32m     34\u001b[0m             \u001b[0mloss\u001b[0m\u001b[0;34m.\u001b[0m\u001b[0mbackward\u001b[0m\u001b[0;34m(\u001b[0m\u001b[0;34m)\u001b[0m\u001b[0;34m\u001b[0m\u001b[0;34m\u001b[0m\u001b[0m\n\u001b[0;32m---> 35\u001b[0;31m             \u001b[0moptimizer\u001b[0m\u001b[0;34m.\u001b[0m\u001b[0mstep\u001b[0m\u001b[0;34m(\u001b[0m\u001b[0;34m)\u001b[0m\u001b[0;34m\u001b[0m\u001b[0;34m\u001b[0m\u001b[0m\n\u001b[0m\u001b[1;32m     36\u001b[0m             \u001b[0moptimizer\u001b[0m\u001b[0;34m.\u001b[0m\u001b[0mzero_grad\u001b[0m\u001b[0;34m(\u001b[0m\u001b[0;34m)\u001b[0m\u001b[0;34m\u001b[0m\u001b[0;34m\u001b[0m\u001b[0m\n\u001b[1;32m     37\u001b[0m             \u001b[0mlrs\u001b[0m\u001b[0;34m.\u001b[0m\u001b[0mappend\u001b[0m\u001b[0;34m(\u001b[0m\u001b[0moptimizer\u001b[0m\u001b[0;34m.\u001b[0m\u001b[0mparam_groups\u001b[0m\u001b[0;34m[\u001b[0m\u001b[0;36m0\u001b[0m\u001b[0;34m]\u001b[0m\u001b[0;34m[\u001b[0m\u001b[0;34m\"lr\"\u001b[0m\u001b[0;34m]\u001b[0m\u001b[0;34m)\u001b[0m\u001b[0;34m\u001b[0m\u001b[0;34m\u001b[0m\u001b[0m\n",
      "\u001b[0;32m~/opt/anaconda3/lib/python3.8/site-packages/torch/optim/lr_scheduler.py\u001b[0m in \u001b[0;36mwrapper\u001b[0;34m(*args, **kwargs)\u001b[0m\n\u001b[1;32m     63\u001b[0m                 \u001b[0minstance\u001b[0m\u001b[0;34m.\u001b[0m\u001b[0m_step_count\u001b[0m \u001b[0;34m+=\u001b[0m \u001b[0;36m1\u001b[0m\u001b[0;34m\u001b[0m\u001b[0;34m\u001b[0m\u001b[0m\n\u001b[1;32m     64\u001b[0m                 \u001b[0mwrapped\u001b[0m \u001b[0;34m=\u001b[0m \u001b[0mfunc\u001b[0m\u001b[0;34m.\u001b[0m\u001b[0m__get__\u001b[0m\u001b[0;34m(\u001b[0m\u001b[0minstance\u001b[0m\u001b[0;34m,\u001b[0m \u001b[0mcls\u001b[0m\u001b[0;34m)\u001b[0m\u001b[0;34m\u001b[0m\u001b[0;34m\u001b[0m\u001b[0m\n\u001b[0;32m---> 65\u001b[0;31m                 \u001b[0;32mreturn\u001b[0m \u001b[0mwrapped\u001b[0m\u001b[0;34m(\u001b[0m\u001b[0;34m*\u001b[0m\u001b[0margs\u001b[0m\u001b[0;34m,\u001b[0m \u001b[0;34m**\u001b[0m\u001b[0mkwargs\u001b[0m\u001b[0;34m)\u001b[0m\u001b[0;34m\u001b[0m\u001b[0;34m\u001b[0m\u001b[0m\n\u001b[0m\u001b[1;32m     66\u001b[0m \u001b[0;34m\u001b[0m\u001b[0m\n\u001b[1;32m     67\u001b[0m             \u001b[0;31m# Note that the returned function here is no longer a bound method,\u001b[0m\u001b[0;34m\u001b[0m\u001b[0;34m\u001b[0m\u001b[0;34m\u001b[0m\u001b[0m\n",
      "\u001b[0;32m~/opt/anaconda3/lib/python3.8/site-packages/torch/optim/optimizer.py\u001b[0m in \u001b[0;36mwrapper\u001b[0;34m(*args, **kwargs)\u001b[0m\n\u001b[1;32m     86\u001b[0m                 \u001b[0mprofile_name\u001b[0m \u001b[0;34m=\u001b[0m \u001b[0;34m\"Optimizer.step#{}.step\"\u001b[0m\u001b[0;34m.\u001b[0m\u001b[0mformat\u001b[0m\u001b[0;34m(\u001b[0m\u001b[0mobj\u001b[0m\u001b[0;34m.\u001b[0m\u001b[0m__class__\u001b[0m\u001b[0;34m.\u001b[0m\u001b[0m__name__\u001b[0m\u001b[0;34m)\u001b[0m\u001b[0;34m\u001b[0m\u001b[0;34m\u001b[0m\u001b[0m\n\u001b[1;32m     87\u001b[0m                 \u001b[0;32mwith\u001b[0m \u001b[0mtorch\u001b[0m\u001b[0;34m.\u001b[0m\u001b[0mautograd\u001b[0m\u001b[0;34m.\u001b[0m\u001b[0mprofiler\u001b[0m\u001b[0;34m.\u001b[0m\u001b[0mrecord_function\u001b[0m\u001b[0;34m(\u001b[0m\u001b[0mprofile_name\u001b[0m\u001b[0;34m)\u001b[0m\u001b[0;34m:\u001b[0m\u001b[0;34m\u001b[0m\u001b[0;34m\u001b[0m\u001b[0m\n\u001b[0;32m---> 88\u001b[0;31m                     \u001b[0;32mreturn\u001b[0m \u001b[0mfunc\u001b[0m\u001b[0;34m(\u001b[0m\u001b[0;34m*\u001b[0m\u001b[0margs\u001b[0m\u001b[0;34m,\u001b[0m \u001b[0;34m**\u001b[0m\u001b[0mkwargs\u001b[0m\u001b[0;34m)\u001b[0m\u001b[0;34m\u001b[0m\u001b[0;34m\u001b[0m\u001b[0m\n\u001b[0m\u001b[1;32m     89\u001b[0m             \u001b[0;32mreturn\u001b[0m \u001b[0mwrapper\u001b[0m\u001b[0;34m\u001b[0m\u001b[0;34m\u001b[0m\u001b[0m\n\u001b[1;32m     90\u001b[0m \u001b[0;34m\u001b[0m\u001b[0m\n",
      "\u001b[0;32m~/opt/anaconda3/lib/python3.8/site-packages/torch/autograd/grad_mode.py\u001b[0m in \u001b[0;36mdecorate_context\u001b[0;34m(*args, **kwargs)\u001b[0m\n\u001b[1;32m     26\u001b[0m         \u001b[0;32mdef\u001b[0m \u001b[0mdecorate_context\u001b[0m\u001b[0;34m(\u001b[0m\u001b[0;34m*\u001b[0m\u001b[0margs\u001b[0m\u001b[0;34m,\u001b[0m \u001b[0;34m**\u001b[0m\u001b[0mkwargs\u001b[0m\u001b[0;34m)\u001b[0m\u001b[0;34m:\u001b[0m\u001b[0;34m\u001b[0m\u001b[0;34m\u001b[0m\u001b[0m\n\u001b[1;32m     27\u001b[0m             \u001b[0;32mwith\u001b[0m \u001b[0mself\u001b[0m\u001b[0;34m.\u001b[0m\u001b[0m__class__\u001b[0m\u001b[0;34m(\u001b[0m\u001b[0;34m)\u001b[0m\u001b[0;34m:\u001b[0m\u001b[0;34m\u001b[0m\u001b[0;34m\u001b[0m\u001b[0m\n\u001b[0;32m---> 28\u001b[0;31m                 \u001b[0;32mreturn\u001b[0m \u001b[0mfunc\u001b[0m\u001b[0;34m(\u001b[0m\u001b[0;34m*\u001b[0m\u001b[0margs\u001b[0m\u001b[0;34m,\u001b[0m \u001b[0;34m**\u001b[0m\u001b[0mkwargs\u001b[0m\u001b[0;34m)\u001b[0m\u001b[0;34m\u001b[0m\u001b[0;34m\u001b[0m\u001b[0m\n\u001b[0m\u001b[1;32m     29\u001b[0m         \u001b[0;32mreturn\u001b[0m \u001b[0mcast\u001b[0m\u001b[0;34m(\u001b[0m\u001b[0mF\u001b[0m\u001b[0;34m,\u001b[0m \u001b[0mdecorate_context\u001b[0m\u001b[0;34m)\u001b[0m\u001b[0;34m\u001b[0m\u001b[0;34m\u001b[0m\u001b[0m\n\u001b[1;32m     30\u001b[0m \u001b[0;34m\u001b[0m\u001b[0m\n",
      "\u001b[0;32m~/opt/anaconda3/lib/python3.8/site-packages/torch/optim/adam.py\u001b[0m in \u001b[0;36mstep\u001b[0;34m(self, closure)\u001b[0m\n\u001b[1;32m    131\u001b[0m                     \u001b[0mstate_steps\u001b[0m\u001b[0;34m.\u001b[0m\u001b[0mappend\u001b[0m\u001b[0;34m(\u001b[0m\u001b[0mstate\u001b[0m\u001b[0;34m[\u001b[0m\u001b[0;34m'step'\u001b[0m\u001b[0;34m]\u001b[0m\u001b[0;34m)\u001b[0m\u001b[0;34m\u001b[0m\u001b[0;34m\u001b[0m\u001b[0m\n\u001b[1;32m    132\u001b[0m \u001b[0;34m\u001b[0m\u001b[0m\n\u001b[0;32m--> 133\u001b[0;31m             F.adam(params_with_grad,\n\u001b[0m\u001b[1;32m    134\u001b[0m                    \u001b[0mgrads\u001b[0m\u001b[0;34m,\u001b[0m\u001b[0;34m\u001b[0m\u001b[0;34m\u001b[0m\u001b[0m\n\u001b[1;32m    135\u001b[0m                    \u001b[0mexp_avgs\u001b[0m\u001b[0;34m,\u001b[0m\u001b[0;34m\u001b[0m\u001b[0;34m\u001b[0m\u001b[0m\n",
      "\u001b[0;32m~/opt/anaconda3/lib/python3.8/site-packages/torch/optim/_functional.py\u001b[0m in \u001b[0;36madam\u001b[0;34m(params, grads, exp_avgs, exp_avg_sqs, max_exp_avg_sqs, state_steps, amsgrad, beta1, beta2, lr, weight_decay, eps)\u001b[0m\n\u001b[1;32m     92\u001b[0m             \u001b[0mdenom\u001b[0m \u001b[0;34m=\u001b[0m \u001b[0;34m(\u001b[0m\u001b[0mmax_exp_avg_sqs\u001b[0m\u001b[0;34m[\u001b[0m\u001b[0mi\u001b[0m\u001b[0;34m]\u001b[0m\u001b[0;34m.\u001b[0m\u001b[0msqrt\u001b[0m\u001b[0;34m(\u001b[0m\u001b[0;34m)\u001b[0m \u001b[0;34m/\u001b[0m \u001b[0mmath\u001b[0m\u001b[0;34m.\u001b[0m\u001b[0msqrt\u001b[0m\u001b[0;34m(\u001b[0m\u001b[0mbias_correction2\u001b[0m\u001b[0;34m)\u001b[0m\u001b[0;34m)\u001b[0m\u001b[0;34m.\u001b[0m\u001b[0madd_\u001b[0m\u001b[0;34m(\u001b[0m\u001b[0meps\u001b[0m\u001b[0;34m)\u001b[0m\u001b[0;34m\u001b[0m\u001b[0;34m\u001b[0m\u001b[0m\n\u001b[1;32m     93\u001b[0m         \u001b[0;32melse\u001b[0m\u001b[0;34m:\u001b[0m\u001b[0;34m\u001b[0m\u001b[0;34m\u001b[0m\u001b[0m\n\u001b[0;32m---> 94\u001b[0;31m             \u001b[0mdenom\u001b[0m \u001b[0;34m=\u001b[0m \u001b[0;34m(\u001b[0m\u001b[0mexp_avg_sq\u001b[0m\u001b[0;34m.\u001b[0m\u001b[0msqrt\u001b[0m\u001b[0;34m(\u001b[0m\u001b[0;34m)\u001b[0m \u001b[0;34m/\u001b[0m \u001b[0mmath\u001b[0m\u001b[0;34m.\u001b[0m\u001b[0msqrt\u001b[0m\u001b[0;34m(\u001b[0m\u001b[0mbias_correction2\u001b[0m\u001b[0;34m)\u001b[0m\u001b[0;34m)\u001b[0m\u001b[0;34m.\u001b[0m\u001b[0madd_\u001b[0m\u001b[0;34m(\u001b[0m\u001b[0meps\u001b[0m\u001b[0;34m)\u001b[0m\u001b[0;34m\u001b[0m\u001b[0;34m\u001b[0m\u001b[0m\n\u001b[0m\u001b[1;32m     95\u001b[0m \u001b[0;34m\u001b[0m\u001b[0m\n\u001b[1;32m     96\u001b[0m         \u001b[0mstep_size\u001b[0m \u001b[0;34m=\u001b[0m \u001b[0mlr\u001b[0m \u001b[0;34m/\u001b[0m \u001b[0mbias_correction1\u001b[0m\u001b[0;34m\u001b[0m\u001b[0;34m\u001b[0m\u001b[0m\n",
      "\u001b[0;31mKeyboardInterrupt\u001b[0m: "
     ]
    }
   ],
   "source": [
    "epochs = 10\n",
    "max_lr = 0.01\n",
    "loss_func = nn.functional.cross_entropy\n",
    "optim = torch.optim.Adam\n",
    "results = train(model, train_loader, validation_loader, epochs, max_lr, loss_func, optim)"
   ]
  },
  {
   "cell_type": "code",
   "execution_count": 10,
   "id": "ef1279b0",
   "metadata": {},
   "outputs": [
    {
     "name": "stdout",
     "output_type": "stream",
     "text": [
      "test_accuracy:  0.9032548069953918\n"
     ]
    }
   ],
   "source": [
    "test_acc = []\n",
    "\n",
    "for images, labels in test_loader:\n",
    "    with torch.no_grad():\n",
    "        logits = model(images)\n",
    "    accuracy = acc_func(logits, labels)\n",
    "    test_acc.append(accuracy)\n",
    "print(\"test_accuracy: \", torch.stack(test_acc).mean().item())"
   ]
  },
  {
   "cell_type": "code",
   "execution_count": 11,
   "id": "3ea79a97",
   "metadata": {},
   "outputs": [
    {
     "data": {
      "image/png": "[encoded data removed]",
      "text/plain": [
       "<Figure size 432x288 with 1 Axes>"
      ]
     },
     "metadata": {
      "needs_background": "light"
     },
     "output_type": "display_data"
    }
   ],
   "source": [
    "x1 = results[\"epoch_train_losses\"]\n",
    "x2 = results[\"epoch_valid_losses\"]\n",
    "y = range(1, epochs + 1)\n",
    "    \n",
    "plt.plot(y, x1, 'g', label='epoch_train_loss')\n",
    "plt.plot(y, x2, 'r', label='epoch_valid_loss')\n",
    "\n",
    "plt.title(\"Loss vs Epoch\")\n",
    "plt.xlabel(\"epoch\")\n",
    "plt.ylabel(\"loss\")\n",
    "\n",
    "plt.legend()\n",
    "plt.show()"
   ]
  },
  {
   "cell_type": "code",
   "execution_count": 12,
   "id": "141fe18e",
   "metadata": {},
   "outputs": [
    {
     "data": {
      "image/png": "[encoded data removed]",
      "text/plain": [
       "<Figure size 432x288 with 1 Axes>"
      ]
     },
     "metadata": {
      "needs_background": "light"
     },
     "output_type": "display_data"
    }
   ],
   "source": [
    "x1 = results[\"epoch_train_accs\"]\n",
    "x2 = results[\"epoch_valid_accs\"]\n",
    "y = range(1, epochs + 1)\n",
    "    \n",
    "plt.plot(y, x1, 'g', label='epoch_train_acc')\n",
    "plt.plot(y, x2, 'r', label='epoch_valid_acc')\n",
    "\n",
    "plt.title(\"Accuracy vs Epoch\")\n",
    "plt.xlabel(\"epoch\")\n",
    "plt.ylabel(\"accuracy\")\n",
    "\n",
    "plt.legend()\n",
    "plt.show()"
   ]
  },
  {
   "cell_type": "code",
   "execution_count": 13,
   "id": "0f7368cd",
   "metadata": {},
   "outputs": [
    {
     "data": {
      "image/png": "[encoded data removed]",
      "text/plain": [
       "<Figure size 432x288 with 1 Axes>"
      ]
     },
     "metadata": {
      "needs_background": "light"
     },
     "output_type": "display_data"
    }
   ],
   "source": [
    "x = results[\"learning_rate\"]\n",
    "y = range(1, len(results[\"learning_rate\"]) + 1)\n",
    "    \n",
    "plt.plot(y, x, 'g')\n",
    "\n",
    "plt.title(\"Learning Rate vs Iteration\")\n",
    "plt.xlabel(\"iteration\")\n",
    "plt.ylabel(\"learning rate\")\n",
    "\n",
    "plt.show()"
   ]
  },
  {
   "cell_type": "code",
   "execution_count": 14,
   "id": "fac6c7a9",
   "metadata": {},
   "outputs": [
    {
     "name": "stdout",
     "output_type": "stream",
     "text": [
      "time:  453.6060519218445\n"
     ]
    }
   ],
   "source": [
    "print(\"time_batch_size_32: \", results[\"computation_time\"] )"
   ]
  },
  {
   "cell_type": "code",
   "execution_count": null,
   "id": "cce12455",
   "metadata": {},
   "outputs": [],
   "source": [
    "filename = \"finalized_resnet_model.ckpt\"\n",
    "torch.save(model.state_dict(), filename)"
   ]
  },
  {
   "cell_type": "markdown",
   "id": "0b05e7cf",
   "metadata": {},
   "source": [
    "Test batch size = 16"
   ]
  },
  {
   "cell_type": "code",
   "execution_count": 17,
   "id": "20f32f85",
   "metadata": {},
   "outputs": [
    {
     "name": "stdout",
     "output_type": "stream",
     "text": [
      "Epoch [1/10], Step [100/2500], Loss: 1.8343, Acc: 0.5000\n",
      "Epoch [1/10], Step [200/2500], Loss: 2.0933, Acc: 0.1875\n",
      "Epoch [1/10], Step [300/2500], Loss: 1.7896, Acc: 0.1875\n",
      "Epoch [1/10], Step [400/2500], Loss: 1.6696, Acc: 0.3750\n",
      "Epoch [1/10], Step [500/2500], Loss: 1.5704, Acc: 0.3125\n",
      "Epoch [1/10], Step [600/2500], Loss: 1.0906, Acc: 0.5625\n",
      "Epoch [1/10], Step [700/2500], Loss: 1.7328, Acc: 0.1875\n",
      "Epoch [1/10], Step [800/2500], Loss: 1.5775, Acc: 0.4375\n",
      "Epoch [1/10], Step [900/2500], Loss: 1.5475, Acc: 0.3750\n",
      "Epoch [1/10], Step [1000/2500], Loss: 1.6581, Acc: 0.2500\n",
      "Epoch [1/10], Step [1100/2500], Loss: 0.8715, Acc: 0.7500\n",
      "Epoch [1/10], Step [1200/2500], Loss: 1.4701, Acc: 0.4375\n",
      "Epoch [1/10], Step [1300/2500], Loss: 1.5016, Acc: 0.5625\n",
      "Epoch [1/10], Step [1400/2500], Loss: 1.5610, Acc: 0.3750\n",
      "Epoch [1/10], Step [1500/2500], Loss: 1.9904, Acc: 0.3750\n",
      "Epoch [1/10], Step [1600/2500], Loss: 2.5794, Acc: 0.3125\n",
      "Epoch [1/10], Step [1700/2500], Loss: 1.5655, Acc: 0.5000\n",
      "Epoch [1/10], Step [1800/2500], Loss: 1.8853, Acc: 0.5625\n",
      "Epoch [1/10], Step [1900/2500], Loss: 1.5067, Acc: 0.3750\n",
      "Epoch [1/10], Step [2000/2500], Loss: 1.5299, Acc: 0.5625\n",
      "Epoch [1/10], Step [2100/2500], Loss: 1.3416, Acc: 0.6250\n",
      "Epoch [1/10], Step [2200/2500], Loss: 1.5714, Acc: 0.4375\n",
      "Epoch [1/10], Step [2300/2500], Loss: 1.1269, Acc: 0.6250\n",
      "Epoch [1/10], Step [2400/2500], Loss: 1.1735, Acc: 0.5625\n",
      "Epoch [1/10], Step [2500/2500], Loss: 1.2884, Acc: 0.5625\n",
      "Avg train loss: 1.5987, Avg train acc: 0.4549\n",
      "Avg validation loss: 1.2720, Avg validation acc: 0.5659\n",
      "Epoch [2/10], Step [100/2500], Loss: 0.9557, Acc: 0.6250\n",
      "Epoch [2/10], Step [200/2500], Loss: 1.5543, Acc: 0.5000\n",
      "Epoch [2/10], Step [300/2500], Loss: 1.1345, Acc: 0.5000\n",
      "Epoch [2/10], Step [400/2500], Loss: 1.0484, Acc: 0.5625\n",
      "Epoch [2/10], Step [500/2500], Loss: 1.9903, Acc: 0.4375\n",
      "Epoch [2/10], Step [600/2500], Loss: 1.7201, Acc: 0.3750\n",
      "Epoch [2/10], Step [700/2500], Loss: 1.8359, Acc: 0.4375\n",
      "Epoch [2/10], Step [800/2500], Loss: 0.9284, Acc: 0.6875\n",
      "Epoch [2/10], Step [900/2500], Loss: 0.9363, Acc: 0.7500\n",
      "Epoch [2/10], Step [1000/2500], Loss: 0.9114, Acc: 0.5625\n",
      "Epoch [2/10], Step [1100/2500], Loss: 1.2187, Acc: 0.6875\n",
      "Epoch [2/10], Step [1200/2500], Loss: 0.6851, Acc: 0.7500\n",
      "Epoch [2/10], Step [1300/2500], Loss: 1.0128, Acc: 0.5000\n",
      "Epoch [2/10], Step [1400/2500], Loss: 1.0437, Acc: 0.5625\n",
      "Epoch [2/10], Step [1500/2500], Loss: 1.2380, Acc: 0.5000\n",
      "Epoch [2/10], Step [1600/2500], Loss: 1.0313, Acc: 0.6250\n",
      "Epoch [2/10], Step [1700/2500], Loss: 1.0335, Acc: 0.6875\n",
      "Epoch [2/10], Step [1800/2500], Loss: 1.3032, Acc: 0.6250\n",
      "Epoch [2/10], Step [1900/2500], Loss: 1.4620, Acc: 0.5000\n",
      "Epoch [2/10], Step [2000/2500], Loss: 0.9722, Acc: 0.6250\n",
      "Epoch [2/10], Step [2100/2500], Loss: 1.7005, Acc: 0.4375\n",
      "Epoch [2/10], Step [2200/2500], Loss: 0.3752, Acc: 0.8750\n",
      "Epoch [2/10], Step [2300/2500], Loss: 1.2284, Acc: 0.6250\n",
      "Epoch [2/10], Step [2400/2500], Loss: 1.0276, Acc: 0.6250\n",
      "Epoch [2/10], Step [2500/2500], Loss: 1.0546, Acc: 0.7500\n",
      "Avg train loss: 1.1336, Avg train acc: 0.6180\n",
      "Avg validation loss: 1.3120, Avg validation acc: 0.5495\n",
      "Epoch [3/10], Step [100/2500], Loss: 0.7819, Acc: 0.6875\n",
      "Epoch [3/10], Step [200/2500], Loss: 0.8875, Acc: 0.8125\n",
      "Epoch [3/10], Step [300/2500], Loss: 0.7058, Acc: 0.6875\n",
      "Epoch [3/10], Step [400/2500], Loss: 0.7775, Acc: 0.7500\n",
      "Epoch [3/10], Step [500/2500], Loss: 1.3901, Acc: 0.5000\n",
      "Epoch [3/10], Step [600/2500], Loss: 0.9248, Acc: 0.5625\n",
      "Epoch [3/10], Step [700/2500], Loss: 0.8833, Acc: 0.6250\n",
      "Epoch [3/10], Step [800/2500], Loss: 0.6170, Acc: 0.8125\n",
      "Epoch [3/10], Step [900/2500], Loss: 0.6972, Acc: 0.7500\n",
      "Epoch [3/10], Step [1000/2500], Loss: 0.9252, Acc: 0.6250\n",
      "Epoch [3/10], Step [1100/2500], Loss: 1.0732, Acc: 0.6250\n",
      "Epoch [3/10], Step [1200/2500], Loss: 0.7031, Acc: 0.6875\n",
      "Epoch [3/10], Step [1300/2500], Loss: 0.7280, Acc: 0.6250\n",
      "Epoch [3/10], Step [1400/2500], Loss: 0.6298, Acc: 0.7500\n",
      "Epoch [3/10], Step [1500/2500], Loss: 0.8095, Acc: 0.6875\n",
      "Epoch [3/10], Step [1600/2500], Loss: 0.3207, Acc: 0.9375\n",
      "Epoch [3/10], Step [1700/2500], Loss: 1.0890, Acc: 0.6875\n",
      "Epoch [3/10], Step [1800/2500], Loss: 0.5636, Acc: 0.8125\n",
      "Epoch [3/10], Step [1900/2500], Loss: 0.7738, Acc: 0.7500\n",
      "Epoch [3/10], Step [2000/2500], Loss: 0.6957, Acc: 0.7500\n",
      "Epoch [3/10], Step [2100/2500], Loss: 1.0335, Acc: 0.5625\n",
      "Epoch [3/10], Step [2200/2500], Loss: 0.9334, Acc: 0.6875\n",
      "Epoch [3/10], Step [2300/2500], Loss: 1.5687, Acc: 0.4375\n",
      "Epoch [3/10], Step [2400/2500], Loss: 0.6358, Acc: 0.7500\n",
      "Epoch [3/10], Step [2500/2500], Loss: 1.1104, Acc: 0.6250\n",
      "Avg train loss: 0.9402, Avg train acc: 0.6798\n",
      "Avg validation loss: 0.9386, Avg validation acc: 0.6800\n",
      "Epoch [4/10], Step [100/2500], Loss: 0.4629, Acc: 0.8125\n",
      "Epoch [4/10], Step [200/2500], Loss: 0.6954, Acc: 0.7500\n",
      "Epoch [4/10], Step [300/2500], Loss: 1.2097, Acc: 0.6250\n",
      "Epoch [4/10], Step [400/2500], Loss: 0.7193, Acc: 0.6875\n",
      "Epoch [4/10], Step [500/2500], Loss: 1.9350, Acc: 0.5000\n",
      "Epoch [4/10], Step [600/2500], Loss: 0.5761, Acc: 0.8750\n",
      "Epoch [4/10], Step [700/2500], Loss: 0.9585, Acc: 0.6875\n",
      "Epoch [4/10], Step [800/2500], Loss: 0.9281, Acc: 0.6875\n",
      "Epoch [4/10], Step [900/2500], Loss: 0.8437, Acc: 0.7500\n",
      "Epoch [4/10], Step [1000/2500], Loss: 0.8953, Acc: 0.6250\n",
      "Epoch [4/10], Step [1100/2500], Loss: 0.7576, Acc: 0.6250\n",
      "Epoch [4/10], Step [1200/2500], Loss: 0.9057, Acc: 0.6250\n",
      "Epoch [4/10], Step [1300/2500], Loss: 0.6562, Acc: 0.7500\n",
      "Epoch [4/10], Step [1400/2500], Loss: 1.0308, Acc: 0.5625\n",
      "Epoch [4/10], Step [1500/2500], Loss: 1.0205, Acc: 0.7500\n",
      "Epoch [4/10], Step [1600/2500], Loss: 0.3427, Acc: 0.8750\n",
      "Epoch [4/10], Step [1700/2500], Loss: 0.6053, Acc: 0.7500\n",
      "Epoch [4/10], Step [1800/2500], Loss: 0.6906, Acc: 0.8125\n",
      "Epoch [4/10], Step [1900/2500], Loss: 0.5523, Acc: 0.7500\n",
      "Epoch [4/10], Step [2000/2500], Loss: 0.9356, Acc: 0.7500\n",
      "Epoch [4/10], Step [2100/2500], Loss: 0.7767, Acc: 0.5625\n",
      "Epoch [4/10], Step [2200/2500], Loss: 0.5324, Acc: 0.8750\n",
      "Epoch [4/10], Step [2300/2500], Loss: 0.4799, Acc: 0.8125\n",
      "Epoch [4/10], Step [2400/2500], Loss: 0.9837, Acc: 0.6875\n",
      "Epoch [4/10], Step [2500/2500], Loss: 1.0300, Acc: 0.8125\n",
      "Avg train loss: 0.8601, Avg train acc: 0.7103\n",
      "Avg validation loss: 0.8134, Avg validation acc: 0.7242\n",
      "Epoch [5/10], Step [100/2500], Loss: 0.7823, Acc: 0.7500\n",
      "Epoch [5/10], Step [200/2500], Loss: 0.7098, Acc: 0.6875\n",
      "Epoch [5/10], Step [300/2500], Loss: 0.9136, Acc: 0.7500\n",
      "Epoch [5/10], Step [400/2500], Loss: 0.4820, Acc: 0.8750\n",
      "Epoch [5/10], Step [500/2500], Loss: 0.3286, Acc: 0.8750\n",
      "Epoch [5/10], Step [600/2500], Loss: 0.7114, Acc: 0.7500\n",
      "Epoch [5/10], Step [700/2500], Loss: 0.9185, Acc: 0.7500\n",
      "Epoch [5/10], Step [800/2500], Loss: 0.3213, Acc: 0.8750\n",
      "Epoch [5/10], Step [900/2500], Loss: 0.5463, Acc: 0.7500\n",
      "Epoch [5/10], Step [1000/2500], Loss: 1.0653, Acc: 0.7500\n",
      "Epoch [5/10], Step [1100/2500], Loss: 0.9081, Acc: 0.6875\n",
      "Epoch [5/10], Step [1200/2500], Loss: 0.3764, Acc: 0.8125\n",
      "Epoch [5/10], Step [1300/2500], Loss: 0.6920, Acc: 0.6875\n",
      "Epoch [5/10], Step [1400/2500], Loss: 0.5927, Acc: 0.8750\n",
      "Epoch [5/10], Step [1500/2500], Loss: 1.2234, Acc: 0.5625\n",
      "Epoch [5/10], Step [1600/2500], Loss: 0.4452, Acc: 0.8125\n",
      "Epoch [5/10], Step [1700/2500], Loss: 1.1331, Acc: 0.6875\n",
      "Epoch [5/10], Step [1800/2500], Loss: 0.7648, Acc: 0.8750\n",
      "Epoch [5/10], Step [1900/2500], Loss: 0.7142, Acc: 0.8125\n",
      "Epoch [5/10], Step [2000/2500], Loss: 0.9095, Acc: 0.6875\n",
      "Epoch [5/10], Step [2100/2500], Loss: 0.5145, Acc: 0.8125\n",
      "Epoch [5/10], Step [2200/2500], Loss: 0.5718, Acc: 0.8125\n",
      "Epoch [5/10], Step [2300/2500], Loss: 0.6820, Acc: 0.8125\n",
      "Epoch [5/10], Step [2400/2500], Loss: 0.4824, Acc: 0.8750\n",
      "Epoch [5/10], Step [2500/2500], Loss: 0.2976, Acc: 0.8750\n",
      "Avg train loss: 0.7546, Avg train acc: 0.7490\n",
      "Avg validation loss: 0.6324, Avg validation acc: 0.7872\n",
      "Epoch [6/10], Step [100/2500], Loss: 0.9813, Acc: 0.8125\n",
      "Epoch [6/10], Step [200/2500], Loss: 0.7049, Acc: 0.6875\n",
      "Epoch [6/10], Step [300/2500], Loss: 0.3318, Acc: 0.9375\n",
      "Epoch [6/10], Step [400/2500], Loss: 0.9576, Acc: 0.7500\n",
      "Epoch [6/10], Step [500/2500], Loss: 0.3630, Acc: 0.8125\n",
      "Epoch [6/10], Step [600/2500], Loss: 0.1258, Acc: 1.0000\n",
      "Epoch [6/10], Step [700/2500], Loss: 0.5391, Acc: 0.6875\n",
      "Epoch [6/10], Step [800/2500], Loss: 0.7307, Acc: 0.8750\n",
      "Epoch [6/10], Step [900/2500], Loss: 0.2286, Acc: 1.0000\n"
     ]
    },
    {
     "name": "stdout",
     "output_type": "stream",
     "text": [
      "Epoch [6/10], Step [1000/2500], Loss: 0.3146, Acc: 0.8750\n",
      "Epoch [6/10], Step [1100/2500], Loss: 0.9247, Acc: 0.6875\n",
      "Epoch [6/10], Step [1200/2500], Loss: 0.9583, Acc: 0.6875\n",
      "Epoch [6/10], Step [1300/2500], Loss: 0.8715, Acc: 0.7500\n",
      "Epoch [6/10], Step [1400/2500], Loss: 0.4731, Acc: 0.8750\n",
      "Epoch [6/10], Step [1500/2500], Loss: 0.8218, Acc: 0.8125\n",
      "Epoch [6/10], Step [1600/2500], Loss: 0.5367, Acc: 0.8125\n",
      "Epoch [6/10], Step [1700/2500], Loss: 0.6131, Acc: 0.8750\n",
      "Epoch [6/10], Step [1800/2500], Loss: 0.7597, Acc: 0.8125\n",
      "Epoch [6/10], Step [1900/2500], Loss: 0.3625, Acc: 0.8750\n",
      "Epoch [6/10], Step [2000/2500], Loss: 0.4101, Acc: 0.9375\n",
      "Epoch [6/10], Step [2100/2500], Loss: 0.5238, Acc: 0.8750\n",
      "Epoch [6/10], Step [2200/2500], Loss: 0.6939, Acc: 0.8750\n",
      "Epoch [6/10], Step [2300/2500], Loss: 0.1072, Acc: 1.0000\n",
      "Epoch [6/10], Step [2400/2500], Loss: 1.0161, Acc: 0.8125\n",
      "Epoch [6/10], Step [2500/2500], Loss: 0.4643, Acc: 0.8125\n",
      "Avg train loss: 0.6445, Avg train acc: 0.7840\n",
      "Avg validation loss: 0.5501, Avg validation acc: 0.8161\n",
      "Epoch [7/10], Step [100/2500], Loss: 0.4738, Acc: 0.8750\n",
      "Epoch [7/10], Step [200/2500], Loss: 0.7530, Acc: 0.6875\n",
      "Epoch [7/10], Step [300/2500], Loss: 0.2534, Acc: 0.8750\n",
      "Epoch [7/10], Step [400/2500], Loss: 0.1827, Acc: 0.9375\n",
      "Epoch [7/10], Step [500/2500], Loss: 0.5617, Acc: 0.7500\n",
      "Epoch [7/10], Step [600/2500], Loss: 0.5328, Acc: 0.7500\n",
      "Epoch [7/10], Step [700/2500], Loss: 0.3491, Acc: 0.8750\n",
      "Epoch [7/10], Step [800/2500], Loss: 0.2091, Acc: 0.9375\n",
      "Epoch [7/10], Step [900/2500], Loss: 0.3568, Acc: 0.8750\n",
      "Epoch [7/10], Step [1000/2500], Loss: 0.5812, Acc: 0.8125\n",
      "Epoch [7/10], Step [1100/2500], Loss: 0.8756, Acc: 0.5625\n",
      "Epoch [7/10], Step [1200/2500], Loss: 0.5095, Acc: 0.7500\n",
      "Epoch [7/10], Step [1300/2500], Loss: 0.7282, Acc: 0.8125\n",
      "Epoch [7/10], Step [1400/2500], Loss: 0.3801, Acc: 0.8750\n",
      "Epoch [7/10], Step [1500/2500], Loss: 0.5561, Acc: 0.7500\n",
      "Epoch [7/10], Step [1600/2500], Loss: 0.7805, Acc: 0.7500\n",
      "Epoch [7/10], Step [1700/2500], Loss: 0.4662, Acc: 0.8750\n",
      "Epoch [7/10], Step [1800/2500], Loss: 0.4903, Acc: 0.8750\n",
      "Epoch [7/10], Step [1900/2500], Loss: 0.2988, Acc: 0.8750\n",
      "Epoch [7/10], Step [2000/2500], Loss: 0.5149, Acc: 0.8125\n",
      "Epoch [7/10], Step [2100/2500], Loss: 0.5824, Acc: 0.8125\n",
      "Epoch [7/10], Step [2200/2500], Loss: 0.6004, Acc: 0.8125\n",
      "Epoch [7/10], Step [2300/2500], Loss: 0.4088, Acc: 0.8125\n",
      "Epoch [7/10], Step [2400/2500], Loss: 0.3187, Acc: 0.8125\n",
      "Epoch [7/10], Step [2500/2500], Loss: 0.3474, Acc: 0.8125\n",
      "Avg train loss: 0.5284, Avg train acc: 0.8217\n",
      "Avg validation loss: 0.4808, Avg validation acc: 0.8377\n",
      "Epoch [8/10], Step [100/2500], Loss: 0.3036, Acc: 0.8750\n",
      "Epoch [8/10], Step [200/2500], Loss: 0.8693, Acc: 0.6250\n",
      "Epoch [8/10], Step [300/2500], Loss: 0.2369, Acc: 0.8750\n",
      "Epoch [8/10], Step [400/2500], Loss: 0.3641, Acc: 0.8750\n",
      "Epoch [8/10], Step [500/2500], Loss: 0.2169, Acc: 0.8750\n",
      "Epoch [8/10], Step [600/2500], Loss: 0.2599, Acc: 0.9375\n",
      "Epoch [8/10], Step [700/2500], Loss: 0.2007, Acc: 0.9375\n",
      "Epoch [8/10], Step [800/2500], Loss: 0.4649, Acc: 0.7500\n",
      "Epoch [8/10], Step [900/2500], Loss: 1.1548, Acc: 0.8125\n",
      "Epoch [8/10], Step [1000/2500], Loss: 0.5556, Acc: 0.8125\n",
      "Epoch [8/10], Step [1100/2500], Loss: 0.5795, Acc: 0.8125\n",
      "Epoch [8/10], Step [1200/2500], Loss: 0.2942, Acc: 0.8750\n",
      "Epoch [8/10], Step [1300/2500], Loss: 0.5054, Acc: 0.8750\n",
      "Epoch [8/10], Step [1400/2500], Loss: 0.4593, Acc: 0.8125\n",
      "Epoch [8/10], Step [1500/2500], Loss: 0.3820, Acc: 0.8750\n",
      "Epoch [8/10], Step [1600/2500], Loss: 0.1331, Acc: 0.9375\n",
      "Epoch [8/10], Step [1700/2500], Loss: 0.7918, Acc: 0.7500\n",
      "Epoch [8/10], Step [1800/2500], Loss: 1.4103, Acc: 0.6250\n",
      "Epoch [8/10], Step [1900/2500], Loss: 0.7490, Acc: 0.8125\n",
      "Epoch [8/10], Step [2000/2500], Loss: 0.2523, Acc: 0.9375\n",
      "Epoch [8/10], Step [2100/2500], Loss: 0.3575, Acc: 0.8125\n",
      "Epoch [8/10], Step [2200/2500], Loss: 0.6231, Acc: 0.8125\n",
      "Epoch [8/10], Step [2300/2500], Loss: 0.3839, Acc: 0.8750\n",
      "Epoch [8/10], Step [2400/2500], Loss: 0.1125, Acc: 0.9375\n",
      "Epoch [8/10], Step [2500/2500], Loss: 0.4671, Acc: 0.9375\n",
      "Avg train loss: 0.4374, Avg train acc: 0.8509\n",
      "Avg validation loss: 0.4067, Avg validation acc: 0.8617\n",
      "Epoch [9/10], Step [100/2500], Loss: 0.4082, Acc: 0.8125\n",
      "Epoch [9/10], Step [200/2500], Loss: 0.5207, Acc: 0.8750\n",
      "Epoch [9/10], Step [300/2500], Loss: 0.1686, Acc: 1.0000\n",
      "Epoch [9/10], Step [400/2500], Loss: 0.3218, Acc: 0.8750\n",
      "Epoch [9/10], Step [500/2500], Loss: 0.2834, Acc: 0.9375\n",
      "Epoch [9/10], Step [600/2500], Loss: 0.1689, Acc: 0.9375\n",
      "Epoch [9/10], Step [700/2500], Loss: 0.8795, Acc: 0.6875\n",
      "Epoch [9/10], Step [800/2500], Loss: 0.5302, Acc: 0.8125\n",
      "Epoch [9/10], Step [900/2500], Loss: 0.3101, Acc: 0.8750\n",
      "Epoch [9/10], Step [1000/2500], Loss: 0.1441, Acc: 0.9375\n",
      "Epoch [9/10], Step [1100/2500], Loss: 0.2900, Acc: 0.9375\n",
      "Epoch [9/10], Step [1200/2500], Loss: 0.4401, Acc: 0.8750\n",
      "Epoch [9/10], Step [1300/2500], Loss: 0.1178, Acc: 0.9375\n",
      "Epoch [9/10], Step [1400/2500], Loss: 0.2910, Acc: 0.8125\n",
      "Epoch [9/10], Step [1500/2500], Loss: 0.2963, Acc: 0.9375\n",
      "Epoch [9/10], Step [1600/2500], Loss: 0.2361, Acc: 0.8750\n",
      "Epoch [9/10], Step [1700/2500], Loss: 0.2773, Acc: 0.8750\n",
      "Epoch [9/10], Step [1800/2500], Loss: 0.6276, Acc: 0.8125\n",
      "Epoch [9/10], Step [1900/2500], Loss: 0.4203, Acc: 0.8750\n",
      "Epoch [9/10], Step [2000/2500], Loss: 0.6307, Acc: 0.8750\n",
      "Epoch [9/10], Step [2100/2500], Loss: 0.3388, Acc: 0.8125\n",
      "Epoch [9/10], Step [2200/2500], Loss: 0.5504, Acc: 0.8750\n",
      "Epoch [9/10], Step [2300/2500], Loss: 0.3020, Acc: 0.8750\n",
      "Epoch [9/10], Step [2400/2500], Loss: 0.6041, Acc: 0.8125\n",
      "Epoch [9/10], Step [2500/2500], Loss: 0.3002, Acc: 0.8750\n",
      "Avg train loss: 0.3605, Avg train acc: 0.8769\n",
      "Avg validation loss: 0.3668, Avg validation acc: 0.8766\n",
      "Epoch [10/10], Step [100/2500], Loss: 0.2732, Acc: 0.8750\n",
      "Epoch [10/10], Step [200/2500], Loss: 0.5273, Acc: 0.8125\n",
      "Epoch [10/10], Step [300/2500], Loss: 0.3901, Acc: 0.8750\n",
      "Epoch [10/10], Step [400/2500], Loss: 0.1143, Acc: 1.0000\n",
      "Epoch [10/10], Step [500/2500], Loss: 0.0908, Acc: 1.0000\n",
      "Epoch [10/10], Step [600/2500], Loss: 0.4831, Acc: 0.8750\n",
      "Epoch [10/10], Step [700/2500], Loss: 0.4397, Acc: 0.8750\n",
      "Epoch [10/10], Step [800/2500], Loss: 0.3492, Acc: 0.8125\n",
      "Epoch [10/10], Step [900/2500], Loss: 0.4297, Acc: 0.8750\n",
      "Epoch [10/10], Step [1000/2500], Loss: 0.4027, Acc: 0.8125\n",
      "Epoch [10/10], Step [1100/2500], Loss: 0.1580, Acc: 1.0000\n",
      "Epoch [10/10], Step [1200/2500], Loss: 0.2744, Acc: 0.8750\n",
      "Epoch [10/10], Step [1300/2500], Loss: 0.5747, Acc: 0.8125\n",
      "Epoch [10/10], Step [1400/2500], Loss: 0.6343, Acc: 0.6875\n",
      "Epoch [10/10], Step [1500/2500], Loss: 0.3216, Acc: 0.8750\n",
      "Epoch [10/10], Step [1600/2500], Loss: 0.1611, Acc: 1.0000\n",
      "Epoch [10/10], Step [1700/2500], Loss: 0.3999, Acc: 0.8750\n",
      "Epoch [10/10], Step [1800/2500], Loss: 0.2462, Acc: 0.8750\n",
      "Epoch [10/10], Step [1900/2500], Loss: 0.6512, Acc: 0.8125\n",
      "Epoch [10/10], Step [2000/2500], Loss: 0.3444, Acc: 0.8750\n",
      "Epoch [10/10], Step [2100/2500], Loss: 0.1705, Acc: 0.9375\n",
      "Epoch [10/10], Step [2200/2500], Loss: 0.4912, Acc: 0.6875\n",
      "Epoch [10/10], Step [2300/2500], Loss: 0.2820, Acc: 0.8750\n",
      "Epoch [10/10], Step [2400/2500], Loss: 0.4199, Acc: 0.8750\n",
      "Epoch [10/10], Step [2500/2500], Loss: 0.2473, Acc: 0.9375\n",
      "Avg train loss: 0.3193, Avg train acc: 0.8909\n",
      "Avg validation loss: 0.3574, Avg validation acc: 0.8796\n"
     ]
    }
   ],
   "source": [
    "batch_size = 16\n",
    "train_loader = DataLoader(train_dataset, batch_size, shuffle=True, pin_memory=True)\n",
    "validation_loader = DataLoader(validation_dataset, batch_size, shuffle=True, pin_memory=True)\n",
    "test_loader = DataLoader(test_dataset, batch_size, shuffle=True, pin_memory=True)\n",
    "\n",
    "device = get_default_device()\n",
    "train_loader = DeviceDataLoader(train_loader, device)\n",
    "validation_loader = DeviceDataLoader(validation_loader, device)\n",
    "test_loader = DeviceDataLoader(test_loader, device)\n",
    "\n",
    "model = ResnetX(3, 10)\n",
    "model = to_device(model, device)\n",
    "\n",
    "results = train(model, train_loader, validation_loader, epochs, max_lr, loss_func, optim)"
   ]
  },
  {
   "cell_type": "code",
   "execution_count": 18,
   "id": "c0b9e3a8",
   "metadata": {},
   "outputs": [
    {
     "name": "stdout",
     "output_type": "stream",
     "text": [
      "test_accuracy:  0.8888999819755554\n"
     ]
    }
   ],
   "source": [
    "test_acc = []\n",
    "\n",
    "for images, labels in test_loader:\n",
    "    with torch.no_grad():\n",
    "        logits = model(images)\n",
    "    accuracy = acc_func(logits, labels)\n",
    "    test_acc.append(accuracy)\n",
    "print(\"test_accuracy: \", torch.stack(test_acc).mean().item())"
   ]
  },
  {
   "cell_type": "code",
   "execution_count": 20,
   "id": "3b452c78",
   "metadata": {},
   "outputs": [
    {
     "name": "stdout",
     "output_type": "stream",
     "text": [
      "time_batch_size_16:  1667.7726259231567\n"
     ]
    }
   ],
   "source": [
    "print(\"time_batch_size_16: \", results[\"computation_time\"] )"
   ]
  },
  {
   "cell_type": "markdown",
   "id": "f2c3b9c4",
   "metadata": {},
   "source": [
    "Test batch size = 64"
   ]
  },
  {
   "cell_type": "code",
   "execution_count": 21,
   "id": "28877295",
   "metadata": {},
   "outputs": [
    {
     "name": "stdout",
     "output_type": "stream",
     "text": [
      "Epoch [1/10], Step [100/625], Loss: 1.5855, Acc: 0.3906\n",
      "Epoch [1/10], Step [200/625], Loss: 1.4022, Acc: 0.5312\n",
      "Epoch [1/10], Step [300/625], Loss: 1.4444, Acc: 0.5312\n",
      "Epoch [1/10], Step [400/625], Loss: 1.2235, Acc: 0.5469\n",
      "Epoch [1/10], Step [500/625], Loss: 0.9975, Acc: 0.6406\n",
      "Epoch [1/10], Step [600/625], Loss: 1.1621, Acc: 0.5625\n",
      "Avg train loss: 1.4544, Avg train acc: 0.4921\n",
      "Avg validation loss: 1.2070, Avg validation acc: 0.5899\n",
      "Epoch [2/10], Step [100/625], Loss: 1.5255, Acc: 0.4844\n",
      "Epoch [2/10], Step [200/625], Loss: 1.4190, Acc: 0.5469\n",
      "Epoch [2/10], Step [300/625], Loss: 1.5811, Acc: 0.4688\n",
      "Epoch [2/10], Step [400/625], Loss: 0.9802, Acc: 0.6719\n",
      "Epoch [2/10], Step [500/625], Loss: 1.1084, Acc: 0.6094\n",
      "Epoch [2/10], Step [600/625], Loss: 1.1310, Acc: 0.6094\n",
      "Avg train loss: 1.1197, Avg train acc: 0.6256\n",
      "Avg validation loss: 1.1936, Avg validation acc: 0.6075\n",
      "Epoch [3/10], Step [100/625], Loss: 1.1596, Acc: 0.6719\n",
      "Epoch [3/10], Step [200/625], Loss: 0.9819, Acc: 0.7500\n",
      "Epoch [3/10], Step [300/625], Loss: 0.7796, Acc: 0.7344\n",
      "Epoch [3/10], Step [400/625], Loss: 0.7771, Acc: 0.7031\n",
      "Epoch [3/10], Step [500/625], Loss: 0.9247, Acc: 0.6719\n",
      "Epoch [3/10], Step [600/625], Loss: 0.8595, Acc: 0.7031\n",
      "Avg train loss: 0.7914, Avg train acc: 0.7333\n",
      "Avg validation loss: 0.6433, Avg validation acc: 0.7829\n",
      "Epoch [4/10], Step [100/625], Loss: 0.6409, Acc: 0.7812\n",
      "Epoch [4/10], Step [200/625], Loss: 0.6147, Acc: 0.7812\n",
      "Epoch [4/10], Step [300/625], Loss: 0.8455, Acc: 0.7031\n",
      "Epoch [4/10], Step [400/625], Loss: 0.4960, Acc: 0.7969\n",
      "Epoch [4/10], Step [500/625], Loss: 0.7864, Acc: 0.7500\n",
      "Epoch [4/10], Step [600/625], Loss: 1.0578, Acc: 0.6406\n",
      "Avg train loss: 0.6501, Avg train acc: 0.7792\n",
      "Avg validation loss: 0.7211, Avg validation acc: 0.7528\n",
      "Epoch [5/10], Step [100/625], Loss: 0.8523, Acc: 0.7031\n",
      "Epoch [5/10], Step [200/625], Loss: 0.7853, Acc: 0.7656\n",
      "Epoch [5/10], Step [300/625], Loss: 0.9559, Acc: 0.7188\n",
      "Epoch [5/10], Step [400/625], Loss: 0.6540, Acc: 0.8281\n",
      "Epoch [5/10], Step [500/625], Loss: 0.4186, Acc: 0.8438\n",
      "Epoch [5/10], Step [600/625], Loss: 0.6699, Acc: 0.8125\n",
      "Avg train loss: 0.5480, Avg train acc: 0.8139\n",
      "Avg validation loss: 0.5429, Avg validation acc: 0.8121\n",
      "Epoch [6/10], Step [100/625], Loss: 0.3996, Acc: 0.8281\n",
      "Epoch [6/10], Step [200/625], Loss: 0.4621, Acc: 0.8281\n",
      "Epoch [6/10], Step [300/625], Loss: 0.4441, Acc: 0.8438\n",
      "Epoch [6/10], Step [400/625], Loss: 0.3908, Acc: 0.8594\n",
      "Epoch [6/10], Step [500/625], Loss: 0.3421, Acc: 0.8594\n",
      "Epoch [6/10], Step [600/625], Loss: 0.3259, Acc: 0.8906\n",
      "Avg train loss: 0.4727, Avg train acc: 0.8382\n",
      "Avg validation loss: 0.4809, Avg validation acc: 0.8364\n",
      "Epoch [7/10], Step [100/625], Loss: 0.3440, Acc: 0.8594\n",
      "Epoch [7/10], Step [200/625], Loss: 0.2058, Acc: 0.9531\n",
      "Epoch [7/10], Step [300/625], Loss: 0.3511, Acc: 0.9062\n",
      "Epoch [7/10], Step [400/625], Loss: 0.5130, Acc: 0.8438\n",
      "Epoch [7/10], Step [500/625], Loss: 0.4066, Acc: 0.8750\n",
      "Epoch [7/10], Step [600/625], Loss: 0.3524, Acc: 0.8594\n",
      "Avg train loss: 0.3832, Avg train acc: 0.8678\n",
      "Avg validation loss: 0.4054, Avg validation acc: 0.8612\n",
      "Epoch [8/10], Step [100/625], Loss: 0.3332, Acc: 0.9062\n",
      "Epoch [8/10], Step [200/625], Loss: 0.3202, Acc: 0.9062\n",
      "Epoch [8/10], Step [300/625], Loss: 0.1198, Acc: 0.9531\n",
      "Epoch [8/10], Step [400/625], Loss: 0.2892, Acc: 0.8750\n",
      "Epoch [8/10], Step [500/625], Loss: 0.5261, Acc: 0.8281\n",
      "Epoch [8/10], Step [600/625], Loss: 0.2350, Acc: 0.9219\n",
      "Avg train loss: 0.2991, Avg train acc: 0.8972\n",
      "Avg validation loss: 0.3349, Avg validation acc: 0.8865\n",
      "Epoch [9/10], Step [100/625], Loss: 0.2441, Acc: 0.9062\n",
      "Epoch [9/10], Step [200/625], Loss: 0.3518, Acc: 0.8906\n",
      "Epoch [9/10], Step [300/625], Loss: 0.3077, Acc: 0.8750\n",
      "Epoch [9/10], Step [400/625], Loss: 0.2194, Acc: 0.9375\n",
      "Epoch [9/10], Step [500/625], Loss: 0.2223, Acc: 0.9062\n",
      "Epoch [9/10], Step [600/625], Loss: 0.2028, Acc: 0.9531\n",
      "Avg train loss: 0.2210, Avg train acc: 0.9251\n",
      "Avg validation loss: 0.2921, Avg validation acc: 0.9022\n",
      "Epoch [10/10], Step [100/625], Loss: 0.3910, Acc: 0.9219\n",
      "Epoch [10/10], Step [200/625], Loss: 0.1565, Acc: 0.9531\n",
      "Epoch [10/10], Step [300/625], Loss: 0.0875, Acc: 0.9844\n",
      "Epoch [10/10], Step [400/625], Loss: 0.2723, Acc: 0.9219\n",
      "Epoch [10/10], Step [500/625], Loss: 0.2033, Acc: 0.9062\n",
      "Epoch [10/10], Step [600/625], Loss: 0.0669, Acc: 0.9844\n",
      "Avg train loss: 0.1726, Avg train acc: 0.9407\n",
      "Avg validation loss: 0.2868, Avg validation acc: 0.9060\n"
     ]
    }
   ],
   "source": [
    "batch_size = 64\n",
    "train_loader = DataLoader(train_dataset, batch_size, shuffle=True, pin_memory=True)\n",
    "validation_loader = DataLoader(validation_dataset, batch_size, shuffle=True, pin_memory=True)\n",
    "test_loader = DataLoader(test_dataset, batch_size, shuffle=True, pin_memory=True)\n",
    "\n",
    "device = get_default_device()\n",
    "train_loader = DeviceDataLoader(train_loader, device)\n",
    "validation_loader = DeviceDataLoader(validation_loader, device)\n",
    "test_loader = DeviceDataLoader(test_loader, device)\n",
    "\n",
    "model = ResnetX(3, 10)\n",
    "model = to_device(model, device)\n",
    "\n",
    "results = train(model, train_loader, validation_loader, epochs, max_lr, loss_func, optim)"
   ]
  },
  {
   "cell_type": "code",
   "execution_count": 22,
   "id": "d0a847e7",
   "metadata": {},
   "outputs": [
    {
     "name": "stdout",
     "output_type": "stream",
     "text": [
      "test_accuracy:  0.9048566818237305\n"
     ]
    }
   ],
   "source": [
    "test_acc = []\n",
    "\n",
    "for images, labels in test_loader:\n",
    "    with torch.no_grad():\n",
    "        logits = model(images)\n",
    "    accuracy = acc_func(logits, labels)\n",
    "    test_acc.append(accuracy)\n",
    "print(\"test_accuracy: \", torch.stack(test_acc).mean().item())"
   ]
  },
  {
   "cell_type": "code",
   "execution_count": 23,
   "id": "13d33a51",
   "metadata": {},
   "outputs": [
    {
     "name": "stdout",
     "output_type": "stream",
     "text": [
      "time_batch_size_64:  384.9242615699768\n"
     ]
    }
   ],
   "source": [
    "print(\"time_batch_size_64: \", results[\"computation_time\"] )"
   ]
  },
  {
   "cell_type": "markdown",
   "id": "82315dde",
   "metadata": {},
   "source": [
    "Test batch size = 128"
   ]
  },
  {
   "cell_type": "code",
   "execution_count": 24,
   "id": "53669aed",
   "metadata": {},
   "outputs": [
    {
     "name": "stdout",
     "output_type": "stream",
     "text": [
      "Epoch [1/10], Step [100/313], Loss: 1.4146, Acc: 0.4609\n",
      "Epoch [1/10], Step [200/313], Loss: 1.2902, Acc: 0.5391\n",
      "Epoch [1/10], Step [300/313], Loss: 1.4529, Acc: 0.5391\n",
      "Avg train loss: 1.5057, Avg train acc: 0.4744\n",
      "Avg validation loss: 1.3271, Avg validation acc: 0.5475\n",
      "Epoch [2/10], Step [100/313], Loss: 0.9874, Acc: 0.6562\n",
      "Epoch [2/10], Step [200/313], Loss: 1.0985, Acc: 0.6562\n",
      "Epoch [2/10], Step [300/313], Loss: 0.9720, Acc: 0.6484\n",
      "Avg train loss: 1.1455, Avg train acc: 0.6120\n",
      "Avg validation loss: 1.6558, Avg validation acc: 0.5145\n",
      "Epoch [3/10], Step [100/313], Loss: 0.8438, Acc: 0.6875\n",
      "Epoch [3/10], Step [200/313], Loss: 0.8291, Acc: 0.7109\n",
      "Epoch [3/10], Step [300/313], Loss: 0.6350, Acc: 0.7266\n",
      "Avg train loss: 0.8474, Avg train acc: 0.7141\n",
      "Avg validation loss: 1.1184, Avg validation acc: 0.6528\n",
      "Epoch [4/10], Step [100/313], Loss: 0.7438, Acc: 0.7266\n",
      "Epoch [4/10], Step [200/313], Loss: 0.7384, Acc: 0.7031\n",
      "Epoch [4/10], Step [300/313], Loss: 0.4766, Acc: 0.8047\n",
      "Avg train loss: 0.6439, Avg train acc: 0.7799\n",
      "Avg validation loss: 0.6796, Avg validation acc: 0.7618\n",
      "Epoch [5/10], Step [100/313], Loss: 0.4957, Acc: 0.8516\n",
      "Epoch [5/10], Step [200/313], Loss: 0.4693, Acc: 0.8516\n",
      "Epoch [5/10], Step [300/313], Loss: 0.5294, Acc: 0.8438\n",
      "Avg train loss: 0.5328, Avg train acc: 0.8184\n",
      "Avg validation loss: 0.6146, Avg validation acc: 0.7925\n",
      "Epoch [6/10], Step [100/313], Loss: 0.4937, Acc: 0.8359\n",
      "Epoch [6/10], Step [200/313], Loss: 0.3338, Acc: 0.8984\n",
      "Epoch [6/10], Step [300/313], Loss: 0.4364, Acc: 0.8359\n",
      "Avg train loss: 0.4438, Avg train acc: 0.8487\n",
      "Avg validation loss: 0.4813, Avg validation acc: 0.8374\n",
      "Epoch [7/10], Step [100/313], Loss: 0.2405, Acc: 0.9141\n",
      "Epoch [7/10], Step [200/313], Loss: 0.5052, Acc: 0.8047\n",
      "Epoch [7/10], Step [300/313], Loss: 0.3496, Acc: 0.8750\n",
      "Avg train loss: 0.3573, Avg train acc: 0.8766\n",
      "Avg validation loss: 0.4246, Avg validation acc: 0.8620\n",
      "Epoch [8/10], Step [100/313], Loss: 0.2310, Acc: 0.9297\n",
      "Epoch [8/10], Step [200/313], Loss: 0.2205, Acc: 0.9297\n",
      "Epoch [8/10], Step [300/313], Loss: 0.2375, Acc: 0.8828\n",
      "Avg train loss: 0.2685, Avg train acc: 0.9092\n",
      "Avg validation loss: 0.3589, Avg validation acc: 0.8785\n",
      "Epoch [9/10], Step [100/313], Loss: 0.2030, Acc: 0.9297\n",
      "Epoch [9/10], Step [200/313], Loss: 0.1332, Acc: 0.9531\n",
      "Epoch [9/10], Step [300/313], Loss: 0.2375, Acc: 0.9141\n",
      "Avg train loss: 0.2023, Avg train acc: 0.9295\n",
      "Avg validation loss: 0.3005, Avg validation acc: 0.8994\n",
      "Epoch [10/10], Step [100/313], Loss: 0.2241, Acc: 0.9141\n",
      "Epoch [10/10], Step [200/313], Loss: 0.1482, Acc: 0.9453\n",
      "Epoch [10/10], Step [300/313], Loss: 0.1025, Acc: 0.9688\n",
      "Avg train loss: 0.1599, Avg train acc: 0.9450\n",
      "Avg validation loss: 0.2951, Avg validation acc: 0.9017\n"
     ]
    }
   ],
   "source": [
    "batch_size = 128\n",
    "train_loader = DataLoader(train_dataset, batch_size, shuffle=True, pin_memory=True)\n",
    "validation_loader = DataLoader(validation_dataset, batch_size, shuffle=True, pin_memory=True)\n",
    "test_loader = DataLoader(test_dataset, batch_size, shuffle=True, pin_memory=True)\n",
    "\n",
    "device = get_default_device()\n",
    "train_loader = DeviceDataLoader(train_loader, device)\n",
    "validation_loader = DeviceDataLoader(validation_loader, device)\n",
    "test_loader = DeviceDataLoader(test_loader, device)\n",
    "\n",
    "model = ResnetX(3, 10)\n",
    "model = to_device(model, device)\n",
    "\n",
    "results = train(model, train_loader, validation_loader, epochs, max_lr, loss_func, optim)"
   ]
  },
  {
   "cell_type": "code",
   "execution_count": 25,
   "id": "6f939093",
   "metadata": {},
   "outputs": [
    {
     "name": "stdout",
     "output_type": "stream",
     "text": [
      "test_accuracy:  0.9054588675498962\n"
     ]
    }
   ],
   "source": [
    "test_acc = []\n",
    "\n",
    "for images, labels in test_loader:\n",
    "    with torch.no_grad():\n",
    "        logits = model(images)\n",
    "    accuracy = acc_func(logits, labels)\n",
    "    test_acc.append(accuracy)\n",
    "print(\"test_accuracy: \", torch.stack(test_acc).mean().item())"
   ]
  },
  {
   "cell_type": "code",
   "execution_count": 26,
   "id": "abf526e1",
   "metadata": {},
   "outputs": [
    {
     "name": "stdout",
     "output_type": "stream",
     "text": [
      "time_batch_size_128:  353.6407928466797\n"
     ]
    }
   ],
   "source": [
    "print(\"time_batch_size_128: \", results[\"computation_time\"] )"
   ]
  },
  {
   "cell_type": "markdown",
   "id": "defd0bdb",
   "metadata": {},
   "source": [
    "Test constant lr 0.01"
   ]
  },
  {
   "cell_type": "code",
   "execution_count": 6,
   "id": "a7b31c37",
   "metadata": {},
   "outputs": [
    {
     "name": "stdout",
     "output_type": "stream",
     "text": [
      "Epoch [1/10], Step [100/1250], Loss: 2.2814, Acc: 0.1875\n",
      "Epoch [1/10], Step [200/1250], Loss: 1.8339, Acc: 0.4062\n",
      "Epoch [1/10], Step [300/1250], Loss: 2.3088, Acc: 0.2500\n",
      "Epoch [1/10], Step [400/1250], Loss: 1.7297, Acc: 0.5312\n",
      "Epoch [1/10], Step [500/1250], Loss: 2.1582, Acc: 0.2500\n",
      "Epoch [1/10], Step [600/1250], Loss: 1.5156, Acc: 0.4688\n",
      "Epoch [1/10], Step [700/1250], Loss: 1.5924, Acc: 0.2812\n",
      "Epoch [1/10], Step [800/1250], Loss: 1.3810, Acc: 0.5312\n",
      "Epoch [1/10], Step [900/1250], Loss: 1.7614, Acc: 0.4375\n",
      "Epoch [1/10], Step [1000/1250], Loss: 1.1595, Acc: 0.5938\n",
      "Epoch [1/10], Step [1100/1250], Loss: 1.0068, Acc: 0.5938\n",
      "Epoch [1/10], Step [1200/1250], Loss: 1.5113, Acc: 0.4062\n",
      "Avg train loss: 1.9238, Avg train acc: 0.3815\n",
      "Avg validation loss: 1.2934, Avg validation acc: 0.5668\n",
      "Epoch [2/10], Step [100/1250], Loss: 1.5406, Acc: 0.4375\n",
      "Epoch [2/10], Step [200/1250], Loss: 1.5614, Acc: 0.5000\n",
      "Epoch [2/10], Step [300/1250], Loss: 1.4516, Acc: 0.5000\n",
      "Epoch [2/10], Step [400/1250], Loss: 1.2763, Acc: 0.5000\n",
      "Epoch [2/10], Step [500/1250], Loss: 0.8905, Acc: 0.6250\n",
      "Epoch [2/10], Step [600/1250], Loss: 0.8612, Acc: 0.6875\n",
      "Epoch [2/10], Step [700/1250], Loss: 1.2922, Acc: 0.5000\n",
      "Epoch [2/10], Step [800/1250], Loss: 1.1776, Acc: 0.5625\n",
      "Epoch [2/10], Step [900/1250], Loss: 0.8875, Acc: 0.6250\n",
      "Epoch [2/10], Step [1000/1250], Loss: 0.5619, Acc: 0.8438\n",
      "Epoch [2/10], Step [1100/1250], Loss: 0.9656, Acc: 0.6875\n",
      "Epoch [2/10], Step [1200/1250], Loss: 1.0671, Acc: 0.5938\n",
      "Avg train loss: 1.0385, Avg train acc: 0.6325\n",
      "Avg validation loss: 0.9650, Avg validation acc: 0.6739\n",
      "Epoch [3/10], Step [100/1250], Loss: 0.8303, Acc: 0.6875\n",
      "Epoch [3/10], Step [200/1250], Loss: 0.8044, Acc: 0.7188\n",
      "Epoch [3/10], Step [300/1250], Loss: 0.5843, Acc: 0.7500\n",
      "Epoch [3/10], Step [400/1250], Loss: 0.9674, Acc: 0.6562\n",
      "Epoch [3/10], Step [500/1250], Loss: 0.5699, Acc: 0.7500\n",
      "Epoch [3/10], Step [600/1250], Loss: 0.4922, Acc: 0.8750\n",
      "Epoch [3/10], Step [700/1250], Loss: 0.8966, Acc: 0.6562\n",
      "Epoch [3/10], Step [800/1250], Loss: 1.2211, Acc: 0.6250\n",
      "Epoch [3/10], Step [900/1250], Loss: 0.9527, Acc: 0.6250\n",
      "Epoch [3/10], Step [1000/1250], Loss: 0.7890, Acc: 0.7812\n",
      "Epoch [3/10], Step [1100/1250], Loss: 0.9598, Acc: 0.5938\n",
      "Epoch [3/10], Step [1200/1250], Loss: 0.9153, Acc: 0.7812\n",
      "Avg train loss: 0.8504, Avg train acc: 0.7061\n",
      "Avg validation loss: 0.7941, Avg validation acc: 0.7213\n",
      "Epoch [4/10], Step [100/1250], Loss: 0.6862, Acc: 0.8125\n",
      "Epoch [4/10], Step [200/1250], Loss: 0.7743, Acc: 0.7188\n",
      "Epoch [4/10], Step [300/1250], Loss: 0.5777, Acc: 0.7500\n",
      "Epoch [4/10], Step [400/1250], Loss: 0.8818, Acc: 0.5938\n",
      "Epoch [4/10], Step [500/1250], Loss: 0.9431, Acc: 0.7812\n",
      "Epoch [4/10], Step [600/1250], Loss: 0.9322, Acc: 0.6250\n",
      "Epoch [4/10], Step [700/1250], Loss: 0.4791, Acc: 0.8438\n",
      "Epoch [4/10], Step [800/1250], Loss: 0.6265, Acc: 0.7188\n",
      "Epoch [4/10], Step [900/1250], Loss: 0.7319, Acc: 0.7500\n",
      "Epoch [4/10], Step [1000/1250], Loss: 0.5158, Acc: 0.8438\n",
      "Epoch [4/10], Step [1100/1250], Loss: 0.6397, Acc: 0.7188\n",
      "Epoch [4/10], Step [1200/1250], Loss: 0.6978, Acc: 0.8125\n",
      "Avg train loss: 0.7545, Avg train acc: 0.7405\n",
      "Avg validation loss: 0.7548, Avg validation acc: 0.7485\n",
      "Epoch [5/10], Step [100/1250], Loss: 0.6683, Acc: 0.7500\n",
      "Epoch [5/10], Step [200/1250], Loss: 0.5357, Acc: 0.8125\n",
      "Epoch [5/10], Step [300/1250], Loss: 0.5906, Acc: 0.8438\n",
      "Epoch [5/10], Step [400/1250], Loss: 0.6893, Acc: 0.8125\n",
      "Epoch [5/10], Step [500/1250], Loss: 0.3814, Acc: 0.8750\n",
      "Epoch [5/10], Step [600/1250], Loss: 0.5668, Acc: 0.7500\n",
      "Epoch [5/10], Step [700/1250], Loss: 0.5110, Acc: 0.7500\n",
      "Epoch [5/10], Step [800/1250], Loss: 0.4717, Acc: 0.8438\n",
      "Epoch [5/10], Step [900/1250], Loss: 0.5048, Acc: 0.7812\n",
      "Epoch [5/10], Step [1000/1250], Loss: 0.8300, Acc: 0.7500\n",
      "Epoch [5/10], Step [1100/1250], Loss: 0.4757, Acc: 0.8438\n",
      "Epoch [5/10], Step [1200/1250], Loss: 0.6826, Acc: 0.7812\n",
      "Avg train loss: 0.7000, Avg train acc: 0.7646\n",
      "Avg validation loss: 0.6868, Avg validation acc: 0.7666\n",
      "Epoch [6/10], Step [100/1250], Loss: 0.5622, Acc: 0.8125\n",
      "Epoch [6/10], Step [200/1250], Loss: 0.1935, Acc: 0.9688\n",
      "Epoch [6/10], Step [300/1250], Loss: 0.9774, Acc: 0.6875\n",
      "Epoch [6/10], Step [400/1250], Loss: 0.6858, Acc: 0.8438\n",
      "Epoch [6/10], Step [500/1250], Loss: 0.5261, Acc: 0.7188\n",
      "Epoch [6/10], Step [600/1250], Loss: 0.2851, Acc: 0.9375\n",
      "Epoch [6/10], Step [700/1250], Loss: 0.4610, Acc: 0.8438\n",
      "Epoch [6/10], Step [800/1250], Loss: 0.5534, Acc: 0.8125\n",
      "Epoch [6/10], Step [900/1250], Loss: 0.5308, Acc: 0.8438\n",
      "Epoch [6/10], Step [1000/1250], Loss: 0.6283, Acc: 0.8438\n",
      "Epoch [6/10], Step [1100/1250], Loss: 1.0473, Acc: 0.5938\n",
      "Epoch [6/10], Step [1200/1250], Loss: 0.7029, Acc: 0.7500\n",
      "Avg train loss: 0.6549, Avg train acc: 0.7771\n",
      "Avg validation loss: 0.6222, Avg validation acc: 0.7891\n",
      "Epoch [7/10], Step [100/1250], Loss: 0.6804, Acc: 0.8125\n",
      "Epoch [7/10], Step [200/1250], Loss: 0.6850, Acc: 0.7812\n",
      "Epoch [7/10], Step [300/1250], Loss: 0.6303, Acc: 0.8438\n",
      "Epoch [7/10], Step [400/1250], Loss: 0.5187, Acc: 0.8125\n",
      "Epoch [7/10], Step [500/1250], Loss: 0.6343, Acc: 0.7812\n",
      "Epoch [7/10], Step [600/1250], Loss: 0.5966, Acc: 0.7812\n",
      "Epoch [7/10], Step [700/1250], Loss: 0.5708, Acc: 0.8125\n",
      "Epoch [7/10], Step [800/1250], Loss: 0.5941, Acc: 0.7812\n",
      "Epoch [7/10], Step [900/1250], Loss: 0.7321, Acc: 0.8750\n",
      "Epoch [7/10], Step [1000/1250], Loss: 0.7603, Acc: 0.7188\n",
      "Epoch [7/10], Step [1100/1250], Loss: 0.6127, Acc: 0.7812\n",
      "Epoch [7/10], Step [1200/1250], Loss: 0.8183, Acc: 0.7188\n",
      "Avg train loss: 0.6185, Avg train acc: 0.7929\n",
      "Avg validation loss: 0.6722, Avg validation acc: 0.7746\n",
      "Epoch [8/10], Step [100/1250], Loss: 0.7450, Acc: 0.7500\n",
      "Epoch [8/10], Step [200/1250], Loss: 0.4796, Acc: 0.7812\n",
      "Epoch [8/10], Step [300/1250], Loss: 0.4064, Acc: 0.8750\n",
      "Epoch [8/10], Step [400/1250], Loss: 0.6547, Acc: 0.8125\n",
      "Epoch [8/10], Step [500/1250], Loss: 0.4758, Acc: 0.8125\n",
      "Epoch [8/10], Step [600/1250], Loss: 0.9370, Acc: 0.7188\n",
      "Epoch [8/10], Step [700/1250], Loss: 0.7501, Acc: 0.7812\n",
      "Epoch [8/10], Step [800/1250], Loss: 0.9233, Acc: 0.7500\n",
      "Epoch [8/10], Step [900/1250], Loss: 0.5362, Acc: 0.8750\n",
      "Epoch [8/10], Step [1000/1250], Loss: 0.5787, Acc: 0.8125\n",
      "Epoch [8/10], Step [1100/1250], Loss: 0.5062, Acc: 0.7812\n",
      "Epoch [8/10], Step [1200/1250], Loss: 0.2899, Acc: 0.8750\n",
      "Avg train loss: 0.5833, Avg train acc: 0.8022\n",
      "Avg validation loss: 0.6814, Avg validation acc: 0.7794\n",
      "Epoch [9/10], Step [100/1250], Loss: 0.4617, Acc: 0.8438\n",
      "Epoch [9/10], Step [200/1250], Loss: 0.5259, Acc: 0.7812\n",
      "Epoch [9/10], Step [300/1250], Loss: 0.5347, Acc: 0.8438\n",
      "Epoch [9/10], Step [400/1250], Loss: 0.8640, Acc: 0.8125\n",
      "Epoch [9/10], Step [500/1250], Loss: 0.2922, Acc: 0.9062\n",
      "Epoch [9/10], Step [600/1250], Loss: 0.6984, Acc: 0.7500\n",
      "Epoch [9/10], Step [700/1250], Loss: 0.6356, Acc: 0.7812\n",
      "Epoch [9/10], Step [800/1250], Loss: 0.2961, Acc: 0.8750\n",
      "Epoch [9/10], Step [900/1250], Loss: 0.6415, Acc: 0.7812\n",
      "Epoch [9/10], Step [1000/1250], Loss: 0.4325, Acc: 0.8125\n",
      "Epoch [9/10], Step [1100/1250], Loss: 0.3324, Acc: 0.8750\n",
      "Epoch [9/10], Step [1200/1250], Loss: 0.7560, Acc: 0.7812\n",
      "Avg train loss: 0.5527, Avg train acc: 0.8149\n",
      "Avg validation loss: 0.5250, Avg validation acc: 0.8272\n",
      "Epoch [10/10], Step [100/1250], Loss: 0.5356, Acc: 0.8438\n",
      "Epoch [10/10], Step [200/1250], Loss: 0.3520, Acc: 0.8125\n",
      "Epoch [10/10], Step [300/1250], Loss: 0.4947, Acc: 0.8125\n",
      "Epoch [10/10], Step [400/1250], Loss: 0.5089, Acc: 0.8125\n",
      "Epoch [10/10], Step [500/1250], Loss: 0.5020, Acc: 0.8125\n",
      "Epoch [10/10], Step [600/1250], Loss: 0.1676, Acc: 0.9688\n",
      "Epoch [10/10], Step [700/1250], Loss: 0.1506, Acc: 0.9688\n",
      "Epoch [10/10], Step [800/1250], Loss: 0.4334, Acc: 0.8750\n",
      "Epoch [10/10], Step [900/1250], Loss: 0.5676, Acc: 0.7812\n",
      "Epoch [10/10], Step [1000/1250], Loss: 0.4793, Acc: 0.8750\n",
      "Epoch [10/10], Step [1100/1250], Loss: 0.4740, Acc: 0.7812\n",
      "Epoch [10/10], Step [1200/1250], Loss: 0.4776, Acc: 0.8125\n",
      "Avg train loss: 0.5311, Avg train acc: 0.8204\n",
      "Avg validation loss: 0.6138, Avg validation acc: 0.8043\n"
     ]
    }
   ],
   "source": [
    "batch_size = 32\n",
    "train_loader = DataLoader(train_dataset, batch_size, shuffle=True, pin_memory=True)\n",
    "validation_loader = DataLoader(validation_dataset, batch_size, shuffle=True, pin_memory=True)\n",
    "test_loader = DataLoader(test_dataset, batch_size, shuffle=True, pin_memory=True)\n",
    "\n",
    "device = get_default_device()\n",
    "train_loader = DeviceDataLoader(train_loader, device)\n",
    "validation_loader = DeviceDataLoader(validation_loader, device)\n",
    "test_loader = DeviceDataLoader(test_loader, device)\n",
    "\n",
    "model = ResnetX(3, 10)\n",
    "model = to_device(model, device)\n",
    "\n",
    "epochs = 10\n",
    "lr = 0.01\n",
    "loss_func = nn.functional.cross_entropy\n",
    "optim = torch.optim.Adam\n",
    "\n",
    "results = train_constant_lr(model, train_loader, validation_loader, epochs, lr, loss_func, optim)"
   ]
  },
  {
   "cell_type": "code",
   "execution_count": 7,
   "id": "18b200e6",
   "metadata": {},
   "outputs": [
    {
     "name": "stdout",
     "output_type": "stream",
     "text": [
      "test_accuracy:  0.8144968152046204\n",
      "time_constant_lr_0.01:  435.5223183631897\n"
     ]
    }
   ],
   "source": [
    "test_acc = []\n",
    "\n",
    "for images, labels in test_loader:\n",
    "    with torch.no_grad():\n",
    "        logits = model(images)\n",
    "    accuracy = acc_func(logits, labels)\n",
    "    test_acc.append(accuracy)\n",
    "print(\"test_accuracy: \", torch.stack(test_acc).mean().item())"
   ]
  },
  {
   "cell_type": "code",
   "execution_count": 10,
   "id": "75415cff",
   "metadata": {},
   "outputs": [
    {
     "data": {
      "image/png": "[encoded data removed]",
      "text/plain": [
       "<Figure size 432x288 with 1 Axes>"
      ]
     },
     "metadata": {
      "needs_background": "light"
     },
     "output_type": "display_data"
    }
   ],
   "source": [
    "x1 = results[\"epoch_train_losses\"]\n",
    "x2 = results[\"epoch_valid_losses\"]\n",
    "y = range(1, epochs + 1)\n",
    "    \n",
    "plt.plot(y, x1, 'g', label='epoch_train_loss')\n",
    "plt.plot(y, x2, 'r', label='epoch_valid_loss')\n",
    "\n",
    "plt.title(\"Loss vs Epoch\")\n",
    "plt.xlabel(\"epoch\")\n",
    "plt.ylabel(\"loss\")\n",
    "\n",
    "plt.legend()\n",
    "plt.show()"
   ]
  },
  {
   "cell_type": "code",
   "execution_count": 11,
   "id": "8f7041d9",
   "metadata": {},
   "outputs": [
    {
     "data": {
      "image/png": "[encoded data removed]",
      "text/plain": [
       "<Figure size 432x288 with 1 Axes>"
      ]
     },
     "metadata": {
      "needs_background": "light"
     },
     "output_type": "display_data"
    }
   ],
   "source": [
    "x1 = results[\"epoch_train_accs\"]\n",
    "x2 = results[\"epoch_valid_accs\"]\n",
    "y = range(1, epochs + 1)\n",
    "    \n",
    "plt.plot(y, x1, 'g', label='epoch_train_acc')\n",
    "plt.plot(y, x2, 'r', label='epoch_valid_acc')\n",
    "\n",
    "plt.title(\"Accuracy vs Epoch\")\n",
    "plt.xlabel(\"epoch\")\n",
    "plt.ylabel(\"accuracy\")\n",
    "\n",
    "plt.legend()\n",
    "plt.show()"
   ]
  },
  {
   "cell_type": "markdown",
   "id": "d447db6c",
   "metadata": {},
   "source": [
    "Test constant lr 0.0001"
   ]
  },
  {
   "cell_type": "code",
   "execution_count": 21,
   "id": "477aabb9",
   "metadata": {},
   "outputs": [
    {
     "name": "stdout",
     "output_type": "stream",
     "text": [
      "Epoch [1/10], Step [100/1250], Loss: 1.8573, Acc: 0.4062\n",
      "Epoch [1/10], Step [200/1250], Loss: 1.8601, Acc: 0.3438\n",
      "Epoch [1/10], Step [300/1250], Loss: 1.9978, Acc: 0.3438\n",
      "Epoch [1/10], Step [400/1250], Loss: 1.3617, Acc: 0.4062\n",
      "Epoch [1/10], Step [500/1250], Loss: 1.2521, Acc: 0.5312\n",
      "Epoch [1/10], Step [600/1250], Loss: 1.1905, Acc: 0.5938\n",
      "Epoch [1/10], Step [700/1250], Loss: 1.7090, Acc: 0.4375\n",
      "Epoch [1/10], Step [800/1250], Loss: 1.4339, Acc: 0.4375\n",
      "Epoch [1/10], Step [900/1250], Loss: 1.1291, Acc: 0.5312\n",
      "Epoch [1/10], Step [1000/1250], Loss: 1.1659, Acc: 0.6875\n",
      "Epoch [1/10], Step [1100/1250], Loss: 1.0654, Acc: 0.6562\n",
      "Epoch [1/10], Step [1200/1250], Loss: 1.4893, Acc: 0.5000\n",
      "Avg train loss: 1.4545, Avg train acc: 0.4931\n",
      "Avg validation loss: 1.0074, Avg validation acc: 0.6502\n",
      "Epoch [2/10], Step [100/1250], Loss: 0.9289, Acc: 0.6562\n",
      "Epoch [2/10], Step [200/1250], Loss: 1.3371, Acc: 0.5312\n",
      "Epoch [2/10], Step [300/1250], Loss: 1.6530, Acc: 0.4375\n",
      "Epoch [2/10], Step [400/1250], Loss: 1.1353, Acc: 0.5938\n",
      "Epoch [2/10], Step [500/1250], Loss: 1.5190, Acc: 0.5312\n",
      "Epoch [2/10], Step [600/1250], Loss: 0.7955, Acc: 0.7500\n",
      "Epoch [2/10], Step [700/1250], Loss: 1.2014, Acc: 0.6562\n",
      "Epoch [2/10], Step [800/1250], Loss: 0.7191, Acc: 0.7812\n",
      "Epoch [2/10], Step [900/1250], Loss: 0.9591, Acc: 0.6250\n",
      "Epoch [2/10], Step [1000/1250], Loss: 0.6143, Acc: 0.7812\n",
      "Epoch [2/10], Step [1100/1250], Loss: 1.2076, Acc: 0.6562\n",
      "Epoch [2/10], Step [1200/1250], Loss: 0.7035, Acc: 0.6875\n",
      "Avg train loss: 0.9992, Avg train acc: 0.6513\n",
      "Avg validation loss: 0.8341, Avg validation acc: 0.7038\n",
      "Epoch [3/10], Step [100/1250], Loss: 0.9683, Acc: 0.6250\n",
      "Epoch [3/10], Step [200/1250], Loss: 0.6438, Acc: 0.6875\n",
      "Epoch [3/10], Step [300/1250], Loss: 0.7345, Acc: 0.7188\n",
      "Epoch [3/10], Step [400/1250], Loss: 1.3035, Acc: 0.5312\n",
      "Epoch [3/10], Step [500/1250], Loss: 1.1824, Acc: 0.5312\n",
      "Epoch [3/10], Step [600/1250], Loss: 0.8053, Acc: 0.7188\n",
      "Epoch [3/10], Step [700/1250], Loss: 0.7960, Acc: 0.7812\n",
      "Epoch [3/10], Step [800/1250], Loss: 0.7994, Acc: 0.6875\n",
      "Epoch [3/10], Step [900/1250], Loss: 0.6903, Acc: 0.7500\n",
      "Epoch [3/10], Step [1000/1250], Loss: 0.6919, Acc: 0.7812\n",
      "Epoch [3/10], Step [1100/1250], Loss: 0.8859, Acc: 0.6562\n",
      "Epoch [3/10], Step [1200/1250], Loss: 0.8403, Acc: 0.6875\n",
      "Avg train loss: 0.7967, Avg train acc: 0.7243\n",
      "Avg validation loss: 0.6762, Avg validation acc: 0.7628\n",
      "Epoch [4/10], Step [100/1250], Loss: 1.1269, Acc: 0.5625\n",
      "Epoch [4/10], Step [200/1250], Loss: 0.6641, Acc: 0.7188\n",
      "Epoch [4/10], Step [300/1250], Loss: 0.7745, Acc: 0.7188\n",
      "Epoch [4/10], Step [400/1250], Loss: 0.9269, Acc: 0.7812\n",
      "Epoch [4/10], Step [500/1250], Loss: 0.6865, Acc: 0.8125\n",
      "Epoch [4/10], Step [600/1250], Loss: 0.5024, Acc: 0.7812\n",
      "Epoch [4/10], Step [700/1250], Loss: 0.7916, Acc: 0.6875\n",
      "Epoch [4/10], Step [800/1250], Loss: 1.0774, Acc: 0.6562\n",
      "Epoch [4/10], Step [900/1250], Loss: 0.5578, Acc: 0.8750\n",
      "Epoch [4/10], Step [1000/1250], Loss: 0.8199, Acc: 0.6875\n",
      "Epoch [4/10], Step [1100/1250], Loss: 0.7770, Acc: 0.7188\n",
      "Epoch [4/10], Step [1200/1250], Loss: 0.5574, Acc: 0.8438\n",
      "Avg train loss: 0.6912, Avg train acc: 0.7605\n",
      "Avg validation loss: 0.6012, Avg validation acc: 0.7844\n",
      "Epoch [5/10], Step [100/1250], Loss: 0.4461, Acc: 0.8438\n",
      "Epoch [5/10], Step [200/1250], Loss: 0.5686, Acc: 0.8438\n",
      "Epoch [5/10], Step [300/1250], Loss: 0.4490, Acc: 0.8438\n",
      "Epoch [5/10], Step [400/1250], Loss: 0.3520, Acc: 0.8750\n",
      "Epoch [5/10], Step [500/1250], Loss: 0.6530, Acc: 0.7500\n",
      "Epoch [5/10], Step [600/1250], Loss: 0.4976, Acc: 0.8750\n",
      "Epoch [5/10], Step [700/1250], Loss: 0.5655, Acc: 0.7812\n",
      "Epoch [5/10], Step [800/1250], Loss: 0.5377, Acc: 0.7812\n",
      "Epoch [5/10], Step [900/1250], Loss: 0.7171, Acc: 0.7188\n",
      "Epoch [5/10], Step [1000/1250], Loss: 0.4593, Acc: 0.8750\n",
      "Epoch [5/10], Step [1100/1250], Loss: 0.7423, Acc: 0.7188\n",
      "Epoch [5/10], Step [1200/1250], Loss: 0.8546, Acc: 0.7500\n",
      "Avg train loss: 0.6049, Avg train acc: 0.7918\n",
      "Avg validation loss: 0.5660, Avg validation acc: 0.8050\n",
      "Epoch [6/10], Step [100/1250], Loss: 0.4290, Acc: 0.8750\n",
      "Epoch [6/10], Step [200/1250], Loss: 0.3852, Acc: 0.8438\n",
      "Epoch [6/10], Step [300/1250], Loss: 0.5193, Acc: 0.7500\n",
      "Epoch [6/10], Step [400/1250], Loss: 0.4995, Acc: 0.8438\n",
      "Epoch [6/10], Step [500/1250], Loss: 0.3397, Acc: 0.8750\n",
      "Epoch [6/10], Step [600/1250], Loss: 0.3126, Acc: 0.9062\n",
      "Epoch [6/10], Step [700/1250], Loss: 0.4686, Acc: 0.8438\n",
      "Epoch [6/10], Step [800/1250], Loss: 0.4968, Acc: 0.7812\n",
      "Epoch [6/10], Step [900/1250], Loss: 0.4977, Acc: 0.7500\n",
      "Epoch [6/10], Step [1000/1250], Loss: 0.7026, Acc: 0.8438\n",
      "Epoch [6/10], Step [1100/1250], Loss: 0.4577, Acc: 0.9062\n",
      "Epoch [6/10], Step [1200/1250], Loss: 0.3912, Acc: 0.8438\n",
      "Avg train loss: 0.5401, Avg train acc: 0.8118\n",
      "Avg validation loss: 0.5720, Avg validation acc: 0.8100\n",
      "Epoch [7/10], Step [100/1250], Loss: 0.3720, Acc: 0.8438\n",
      "Epoch [7/10], Step [200/1250], Loss: 0.4894, Acc: 0.7812\n",
      "Epoch [7/10], Step [300/1250], Loss: 0.3199, Acc: 0.8750\n",
      "Epoch [7/10], Step [400/1250], Loss: 0.6069, Acc: 0.7500\n",
      "Epoch [7/10], Step [500/1250], Loss: 0.5956, Acc: 0.7812\n",
      "Epoch [7/10], Step [600/1250], Loss: 0.4931, Acc: 0.8438\n",
      "Epoch [7/10], Step [700/1250], Loss: 0.5985, Acc: 0.8125\n",
      "Epoch [7/10], Step [800/1250], Loss: 0.6119, Acc: 0.7812\n",
      "Epoch [7/10], Step [900/1250], Loss: 0.5798, Acc: 0.8125\n",
      "Epoch [7/10], Step [1000/1250], Loss: 0.4267, Acc: 0.8125\n",
      "Epoch [7/10], Step [1100/1250], Loss: 0.4069, Acc: 0.9062\n",
      "Epoch [7/10], Step [1200/1250], Loss: 0.2889, Acc: 0.9375\n",
      "Avg train loss: 0.4932, Avg train acc: 0.8295\n",
      "Avg validation loss: 0.4714, Avg validation acc: 0.8376\n",
      "Epoch [8/10], Step [100/1250], Loss: 0.5787, Acc: 0.7500\n",
      "Epoch [8/10], Step [200/1250], Loss: 0.4113, Acc: 0.9062\n",
      "Epoch [8/10], Step [300/1250], Loss: 0.4249, Acc: 0.7812\n",
      "Epoch [8/10], Step [400/1250], Loss: 0.4305, Acc: 0.8750\n",
      "Epoch [8/10], Step [500/1250], Loss: 0.4566, Acc: 0.8125\n",
      "Epoch [8/10], Step [600/1250], Loss: 0.4647, Acc: 0.8750\n",
      "Epoch [8/10], Step [700/1250], Loss: 0.7044, Acc: 0.7188\n",
      "Epoch [8/10], Step [800/1250], Loss: 0.3181, Acc: 0.8750\n",
      "Epoch [8/10], Step [900/1250], Loss: 0.5371, Acc: 0.7812\n",
      "Epoch [8/10], Step [1000/1250], Loss: 0.4082, Acc: 0.8750\n",
      "Epoch [8/10], Step [1100/1250], Loss: 0.6537, Acc: 0.6875\n",
      "Epoch [8/10], Step [1200/1250], Loss: 0.4732, Acc: 0.8750\n",
      "Avg train loss: 0.4550, Avg train acc: 0.8422\n",
      "Avg validation loss: 0.4863, Avg validation acc: 0.8370\n",
      "Epoch [9/10], Step [100/1250], Loss: 0.2267, Acc: 0.9375\n",
      "Epoch [9/10], Step [200/1250], Loss: 0.3934, Acc: 0.8750\n",
      "Epoch [9/10], Step [300/1250], Loss: 0.5818, Acc: 0.7500\n",
      "Epoch [9/10], Step [400/1250], Loss: 0.2606, Acc: 0.9688\n",
      "Epoch [9/10], Step [500/1250], Loss: 0.5764, Acc: 0.8750\n",
      "Epoch [9/10], Step [600/1250], Loss: 0.3117, Acc: 0.8438\n",
      "Epoch [9/10], Step [700/1250], Loss: 0.2732, Acc: 0.9062\n",
      "Epoch [9/10], Step [800/1250], Loss: 0.3997, Acc: 0.8438\n",
      "Epoch [9/10], Step [900/1250], Loss: 0.4943, Acc: 0.9062\n",
      "Epoch [9/10], Step [1000/1250], Loss: 0.7796, Acc: 0.7812\n",
      "Epoch [9/10], Step [1100/1250], Loss: 0.4330, Acc: 0.8750\n",
      "Epoch [9/10], Step [1200/1250], Loss: 0.1803, Acc: 0.9375\n",
      "Avg train loss: 0.4163, Avg train acc: 0.8550\n",
      "Avg validation loss: 0.4785, Avg validation acc: 0.8348\n",
      "Epoch [10/10], Step [100/1250], Loss: 0.5641, Acc: 0.7812\n",
      "Epoch [10/10], Step [200/1250], Loss: 0.5940, Acc: 0.8438\n",
      "Epoch [10/10], Step [300/1250], Loss: 0.3557, Acc: 0.8438\n",
      "Epoch [10/10], Step [400/1250], Loss: 0.6556, Acc: 0.8438\n",
      "Epoch [10/10], Step [500/1250], Loss: 0.4883, Acc: 0.9062\n",
      "Epoch [10/10], Step [600/1250], Loss: 0.3068, Acc: 0.9062\n",
      "Epoch [10/10], Step [700/1250], Loss: 0.6377, Acc: 0.8125\n",
      "Epoch [10/10], Step [800/1250], Loss: 0.3145, Acc: 0.9062\n",
      "Epoch [10/10], Step [900/1250], Loss: 0.8661, Acc: 0.7500\n",
      "Epoch [10/10], Step [1000/1250], Loss: 0.5210, Acc: 0.8438\n",
      "Epoch [10/10], Step [1100/1250], Loss: 0.6820, Acc: 0.7188\n",
      "Epoch [10/10], Step [1200/1250], Loss: 0.5167, Acc: 0.8750\n",
      "Avg train loss: 0.3899, Avg train acc: 0.8657\n",
      "Avg validation loss: 0.4132, Avg validation acc: 0.8602\n"
     ]
    }
   ],
   "source": [
    "model = ResnetX(3, 10)\n",
    "model = to_device(model, device)\n",
    "\n",
    "epochs = 10\n",
    "lr = 0.0001\n",
    "loss_func = nn.functional.cross_entropy\n",
    "optim = torch.optim.Adam\n",
    "\n",
    "results = train_constant_lr(model, train_loader, validation_loader, epochs, lr, loss_func, optim)"
   ]
  },
  {
   "cell_type": "code",
   "execution_count": 22,
   "id": "092a4fab",
   "metadata": {},
   "outputs": [
    {
     "name": "stdout",
     "output_type": "stream",
     "text": [
      "test_accuracy:  0.8729033470153809\n"
     ]
    }
   ],
   "source": [
    "test_acc = []\n",
    "\n",
    "for images, labels in test_loader:\n",
    "    with torch.no_grad():\n",
    "        logits = model(images)\n",
    "    accuracy = acc_func(logits, labels)\n",
    "    test_acc.append(accuracy)\n",
    "print(\"test_accuracy: \", torch.stack(test_acc).mean().item())"
   ]
  },
  {
   "cell_type": "code",
   "execution_count": 23,
   "id": "a2ea15ea",
   "metadata": {},
   "outputs": [
    {
     "data": {
      "image/png": "[encoded data removed]",
      "text/plain": [
       "<Figure size 432x288 with 1 Axes>"
      ]
     },
     "metadata": {
      "needs_background": "light"
     },
     "output_type": "display_data"
    }
   ],
   "source": [
    "x1 = results[\"epoch_train_losses\"]\n",
    "x2 = results[\"epoch_valid_losses\"]\n",
    "y = range(1, epochs + 1)\n",
    "    \n",
    "plt.plot(y, x1, 'g', label='epoch_train_loss')\n",
    "plt.plot(y, x2, 'r', label='epoch_valid_loss')\n",
    "\n",
    "plt.title(\"Loss vs Epoch\")\n",
    "plt.xlabel(\"epoch\")\n",
    "plt.ylabel(\"loss\")\n",
    "\n",
    "plt.legend()\n",
    "plt.show()"
   ]
  },
  {
   "cell_type": "code",
   "execution_count": 24,
   "id": "ca8c9406",
   "metadata": {},
   "outputs": [
    {
     "data": {
      "image/png": "[encoded data removed]",
      "text/plain": [
       "<Figure size 432x288 with 1 Axes>"
      ]
     },
     "metadata": {
      "needs_background": "light"
     },
     "output_type": "display_data"
    }
   ],
   "source": [
    "x1 = results[\"epoch_train_accs\"]\n",
    "x2 = results[\"epoch_valid_accs\"]\n",
    "y = range(1, epochs + 1)\n",
    "    \n",
    "plt.plot(y, x1, 'g', label='epoch_train_acc')\n",
    "plt.plot(y, x2, 'r', label='epoch_valid_acc')\n",
    "\n",
    "plt.title(\"Accuracy vs Epoch\")\n",
    "plt.xlabel(\"epoch\")\n",
    "plt.ylabel(\"accuracy\")\n",
    "\n",
    "plt.legend()\n",
    "plt.show()"
   ]
  },
  {
   "cell_type": "markdown",
   "id": "2ecae559",
   "metadata": {},
   "source": [
    "Test constatn lr 0.001"
   ]
  },
  {
   "cell_type": "code",
   "execution_count": 12,
   "id": "64eaa096",
   "metadata": {},
   "outputs": [
    {
     "name": "stdout",
     "output_type": "stream",
     "text": [
      "Epoch [1/10], Step [100/1250], Loss: 1.3593, Acc: 0.5312\n",
      "Epoch [1/10], Step [200/1250], Loss: 1.8209, Acc: 0.3125\n",
      "Epoch [1/10], Step [300/1250], Loss: 1.7381, Acc: 0.3438\n",
      "Epoch [1/10], Step [400/1250], Loss: 1.2370, Acc: 0.5625\n",
      "Epoch [1/10], Step [500/1250], Loss: 1.2420, Acc: 0.5938\n",
      "Epoch [1/10], Step [600/1250], Loss: 1.1336, Acc: 0.5625\n",
      "Epoch [1/10], Step [700/1250], Loss: 1.3926, Acc: 0.5938\n",
      "Epoch [1/10], Step [800/1250], Loss: 0.7296, Acc: 0.7812\n",
      "Epoch [1/10], Step [900/1250], Loss: 1.1431, Acc: 0.5938\n",
      "Epoch [1/10], Step [1000/1250], Loss: 1.3556, Acc: 0.4688\n",
      "Epoch [1/10], Step [1100/1250], Loss: 1.4957, Acc: 0.5000\n",
      "Epoch [1/10], Step [1200/1250], Loss: 1.1241, Acc: 0.6875\n",
      "Avg train loss: 1.4322, Avg train acc: 0.4974\n",
      "Avg validation loss: 1.0572, Avg validation acc: 0.6379\n",
      "Epoch [2/10], Step [100/1250], Loss: 1.1673, Acc: 0.4375\n",
      "Epoch [2/10], Step [200/1250], Loss: 0.9058, Acc: 0.7812\n",
      "Epoch [2/10], Step [300/1250], Loss: 0.7900, Acc: 0.6875\n",
      "Epoch [2/10], Step [400/1250], Loss: 1.4535, Acc: 0.4375\n",
      "Epoch [2/10], Step [500/1250], Loss: 0.8254, Acc: 0.7188\n",
      "Epoch [2/10], Step [600/1250], Loss: 0.6935, Acc: 0.7812\n",
      "Epoch [2/10], Step [700/1250], Loss: 0.6788, Acc: 0.7812\n",
      "Epoch [2/10], Step [800/1250], Loss: 0.8396, Acc: 0.6875\n",
      "Epoch [2/10], Step [900/1250], Loss: 0.8698, Acc: 0.6562\n",
      "Epoch [2/10], Step [1000/1250], Loss: 1.2270, Acc: 0.6562\n",
      "Epoch [2/10], Step [1100/1250], Loss: 0.8454, Acc: 0.7188\n",
      "Epoch [2/10], Step [1200/1250], Loss: 0.9417, Acc: 0.6875\n",
      "Avg train loss: 0.9523, Avg train acc: 0.6711\n",
      "Avg validation loss: 0.8548, Avg validation acc: 0.7075\n",
      "Epoch [3/10], Step [100/1250], Loss: 0.9347, Acc: 0.6562\n",
      "Epoch [3/10], Step [200/1250], Loss: 0.8611, Acc: 0.7188\n",
      "Epoch [3/10], Step [300/1250], Loss: 1.0986, Acc: 0.6875\n",
      "Epoch [3/10], Step [400/1250], Loss: 0.4201, Acc: 0.8750\n",
      "Epoch [3/10], Step [500/1250], Loss: 0.4336, Acc: 0.8438\n",
      "Epoch [3/10], Step [600/1250], Loss: 0.7766, Acc: 0.7500\n",
      "Epoch [3/10], Step [700/1250], Loss: 0.3576, Acc: 0.9688\n",
      "Epoch [3/10], Step [800/1250], Loss: 1.0129, Acc: 0.7188\n",
      "Epoch [3/10], Step [900/1250], Loss: 0.7207, Acc: 0.7812\n",
      "Epoch [3/10], Step [1000/1250], Loss: 1.1176, Acc: 0.7188\n",
      "Epoch [3/10], Step [1100/1250], Loss: 0.5672, Acc: 0.8125\n",
      "Epoch [3/10], Step [1200/1250], Loss: 1.3840, Acc: 0.6562\n",
      "Avg train loss: 0.7694, Avg train acc: 0.7369\n",
      "Avg validation loss: 0.5993, Avg validation acc: 0.7939\n",
      "Epoch [4/10], Step [100/1250], Loss: 0.7429, Acc: 0.6875\n",
      "Epoch [4/10], Step [200/1250], Loss: 0.8716, Acc: 0.7188\n",
      "Epoch [4/10], Step [300/1250], Loss: 0.5906, Acc: 0.7188\n",
      "Epoch [4/10], Step [400/1250], Loss: 0.5598, Acc: 0.7812\n",
      "Epoch [4/10], Step [500/1250], Loss: 0.6827, Acc: 0.7188\n",
      "Epoch [4/10], Step [600/1250], Loss: 0.9461, Acc: 0.6875\n",
      "Epoch [4/10], Step [700/1250], Loss: 1.3153, Acc: 0.5312\n",
      "Epoch [4/10], Step [800/1250], Loss: 0.6557, Acc: 0.8438\n",
      "Epoch [4/10], Step [900/1250], Loss: 0.4609, Acc: 0.8438\n",
      "Epoch [4/10], Step [1000/1250], Loss: 0.6509, Acc: 0.8125\n",
      "Epoch [4/10], Step [1100/1250], Loss: 0.5430, Acc: 0.7812\n",
      "Epoch [4/10], Step [1200/1250], Loss: 0.4460, Acc: 0.8125\n",
      "Avg train loss: 0.6495, Avg train acc: 0.7802\n",
      "Avg validation loss: 0.5566, Avg validation acc: 0.8156\n",
      "Epoch [5/10], Step [100/1250], Loss: 0.6792, Acc: 0.7812\n",
      "Epoch [5/10], Step [200/1250], Loss: 0.9648, Acc: 0.6875\n",
      "Epoch [5/10], Step [300/1250], Loss: 0.6617, Acc: 0.7500\n",
      "Epoch [5/10], Step [400/1250], Loss: 0.3640, Acc: 0.8750\n",
      "Epoch [5/10], Step [500/1250], Loss: 0.2339, Acc: 0.8750\n",
      "Epoch [5/10], Step [600/1250], Loss: 0.6252, Acc: 0.8125\n",
      "Epoch [5/10], Step [700/1250], Loss: 0.6111, Acc: 0.7188\n",
      "Epoch [5/10], Step [800/1250], Loss: 0.4548, Acc: 0.7812\n",
      "Epoch [5/10], Step [900/1250], Loss: 0.8461, Acc: 0.6875\n",
      "Epoch [5/10], Step [1000/1250], Loss: 0.7291, Acc: 0.7500\n",
      "Epoch [5/10], Step [1100/1250], Loss: 0.5670, Acc: 0.7812\n",
      "Epoch [5/10], Step [1200/1250], Loss: 0.4008, Acc: 0.8750\n",
      "Avg train loss: 0.5673, Avg train acc: 0.8072\n",
      "Avg validation loss: 0.6185, Avg validation acc: 0.7965\n",
      "Epoch [6/10], Step [100/1250], Loss: 0.5214, Acc: 0.8125\n",
      "Epoch [6/10], Step [200/1250], Loss: 0.7062, Acc: 0.8438\n",
      "Epoch [6/10], Step [300/1250], Loss: 0.4233, Acc: 0.8125\n",
      "Epoch [6/10], Step [400/1250], Loss: 0.3269, Acc: 0.8750\n",
      "Epoch [6/10], Step [500/1250], Loss: 0.4896, Acc: 0.8125\n",
      "Epoch [6/10], Step [600/1250], Loss: 0.3819, Acc: 0.8750\n",
      "Epoch [6/10], Step [700/1250], Loss: 0.6379, Acc: 0.7500\n",
      "Epoch [6/10], Step [800/1250], Loss: 0.3660, Acc: 0.8125\n",
      "Epoch [6/10], Step [900/1250], Loss: 0.2565, Acc: 0.9062\n",
      "Epoch [6/10], Step [1000/1250], Loss: 0.5089, Acc: 0.8438\n",
      "Epoch [6/10], Step [1100/1250], Loss: 0.7426, Acc: 0.7188\n",
      "Epoch [6/10], Step [1200/1250], Loss: 0.5600, Acc: 0.8438\n",
      "Avg train loss: 0.5078, Avg train acc: 0.8273\n",
      "Avg validation loss: 0.5395, Avg validation acc: 0.8191\n",
      "Epoch [7/10], Step [100/1250], Loss: 1.2225, Acc: 0.6562\n",
      "Epoch [7/10], Step [200/1250], Loss: 0.0764, Acc: 0.9688\n",
      "Epoch [7/10], Step [300/1250], Loss: 0.5163, Acc: 0.7188\n",
      "Epoch [7/10], Step [400/1250], Loss: 0.4152, Acc: 0.8750\n",
      "Epoch [7/10], Step [500/1250], Loss: 0.3973, Acc: 0.8750\n",
      "Epoch [7/10], Step [600/1250], Loss: 0.3004, Acc: 0.9062\n",
      "Epoch [7/10], Step [700/1250], Loss: 0.6876, Acc: 0.7500\n",
      "Epoch [7/10], Step [800/1250], Loss: 0.4864, Acc: 0.8125\n",
      "Epoch [7/10], Step [900/1250], Loss: 0.2621, Acc: 0.9062\n",
      "Epoch [7/10], Step [1000/1250], Loss: 0.2319, Acc: 0.8438\n",
      "Epoch [7/10], Step [1100/1250], Loss: 0.4156, Acc: 0.8438\n",
      "Epoch [7/10], Step [1200/1250], Loss: 0.3304, Acc: 0.8438\n",
      "Avg train loss: 0.4385, Avg train acc: 0.8509\n",
      "Avg validation loss: 0.4435, Avg validation acc: 0.8519\n",
      "Epoch [8/10], Step [100/1250], Loss: 0.3488, Acc: 0.9062\n",
      "Epoch [8/10], Step [200/1250], Loss: 0.4345, Acc: 0.8438\n",
      "Epoch [8/10], Step [300/1250], Loss: 0.4772, Acc: 0.9375\n",
      "Epoch [8/10], Step [400/1250], Loss: 0.3369, Acc: 0.8750\n",
      "Epoch [8/10], Step [500/1250], Loss: 0.3661, Acc: 0.8438\n",
      "Epoch [8/10], Step [600/1250], Loss: 0.2612, Acc: 0.8750\n",
      "Epoch [8/10], Step [700/1250], Loss: 0.2537, Acc: 0.9375\n",
      "Epoch [8/10], Step [800/1250], Loss: 0.3154, Acc: 0.8750\n",
      "Epoch [8/10], Step [900/1250], Loss: 0.4260, Acc: 0.8750\n",
      "Epoch [8/10], Step [1000/1250], Loss: 0.5044, Acc: 0.8750\n",
      "Epoch [8/10], Step [1100/1250], Loss: 0.3717, Acc: 0.8438\n",
      "Epoch [8/10], Step [1200/1250], Loss: 0.5504, Acc: 0.8125\n",
      "Avg train loss: 0.3961, Avg train acc: 0.8654\n",
      "Avg validation loss: 0.3998, Avg validation acc: 0.8624\n",
      "Epoch [9/10], Step [100/1250], Loss: 0.2077, Acc: 0.9688\n",
      "Epoch [9/10], Step [200/1250], Loss: 0.3854, Acc: 0.8750\n",
      "Epoch [9/10], Step [300/1250], Loss: 0.2644, Acc: 0.8438\n",
      "Epoch [9/10], Step [400/1250], Loss: 0.3679, Acc: 0.9062\n",
      "Epoch [9/10], Step [500/1250], Loss: 0.5137, Acc: 0.8125\n",
      "Epoch [9/10], Step [600/1250], Loss: 0.2238, Acc: 0.9062\n",
      "Epoch [9/10], Step [700/1250], Loss: 0.3955, Acc: 0.8438\n",
      "Epoch [9/10], Step [800/1250], Loss: 0.1413, Acc: 0.9062\n",
      "Epoch [9/10], Step [900/1250], Loss: 0.1393, Acc: 0.9688\n",
      "Epoch [9/10], Step [1000/1250], Loss: 0.2746, Acc: 0.9062\n",
      "Epoch [9/10], Step [1100/1250], Loss: 0.1976, Acc: 0.9062\n",
      "Epoch [9/10], Step [1200/1250], Loss: 0.3599, Acc: 0.8750\n",
      "Avg train loss: 0.3586, Avg train acc: 0.8789\n",
      "Avg validation loss: 0.4755, Avg validation acc: 0.8458\n",
      "Epoch [10/10], Step [100/1250], Loss: 0.2327, Acc: 0.9688\n",
      "Epoch [10/10], Step [200/1250], Loss: 0.4778, Acc: 0.8438\n",
      "Epoch [10/10], Step [300/1250], Loss: 0.3076, Acc: 0.8438\n",
      "Epoch [10/10], Step [400/1250], Loss: 0.0747, Acc: 1.0000\n",
      "Epoch [10/10], Step [500/1250], Loss: 0.2844, Acc: 0.9375\n",
      "Epoch [10/10], Step [600/1250], Loss: 0.1380, Acc: 0.9375\n",
      "Epoch [10/10], Step [700/1250], Loss: 0.2063, Acc: 0.9062\n",
      "Epoch [10/10], Step [800/1250], Loss: 0.4934, Acc: 0.8750\n",
      "Epoch [10/10], Step [900/1250], Loss: 0.3119, Acc: 0.8750\n",
      "Epoch [10/10], Step [1000/1250], Loss: 0.2897, Acc: 0.8750\n",
      "Epoch [10/10], Step [1100/1250], Loss: 0.2210, Acc: 0.9375\n",
      "Epoch [10/10], Step [1200/1250], Loss: 0.7166, Acc: 0.7812\n",
      "Avg train loss: 0.3280, Avg train acc: 0.8857\n",
      "Avg validation loss: 0.4862, Avg validation acc: 0.8383\n"
     ]
    }
   ],
   "source": [
    "model = ResnetX(3, 10)\n",
    "model = to_device(model, device)\n",
    "\n",
    "epochs = 10\n",
    "lr = 0.001\n",
    "loss_func = nn.functional.cross_entropy\n",
    "optim = torch.optim.Adam\n",
    "\n",
    "results = train_constant_lr(model, train_loader, validation_loader, epochs, lr, loss_func, optim)"
   ]
  },
  {
   "cell_type": "code",
   "execution_count": 14,
   "id": "72021f3e",
   "metadata": {},
   "outputs": [
    {
     "name": "stdout",
     "output_type": "stream",
     "text": [
      "test_accuracy:  0.8473442196846008\n"
     ]
    }
   ],
   "source": [
    "test_acc = []\n",
    "\n",
    "for images, labels in test_loader:\n",
    "    with torch.no_grad():\n",
    "        logits = model(images)\n",
    "    accuracy = acc_func(logits, labels)\n",
    "    test_acc.append(accuracy)\n",
    "print(\"test_accuracy: \", torch.stack(test_acc).mean().item())"
   ]
  },
  {
   "cell_type": "code",
   "execution_count": 15,
   "id": "6f8a4701",
   "metadata": {},
   "outputs": [
    {
     "data": {
      "image/png": "[encoded data removed]",
      "text/plain": [
       "<Figure size 432x288 with 1 Axes>"
      ]
     },
     "metadata": {
      "needs_background": "light"
     },
     "output_type": "display_data"
    }
   ],
   "source": [
    "x1 = results[\"epoch_train_losses\"]\n",
    "x2 = results[\"epoch_valid_losses\"]\n",
    "y = range(1, epochs + 1)\n",
    "    \n",
    "plt.plot(y, x1, 'g', label='epoch_train_loss')\n",
    "plt.plot(y, x2, 'r', label='epoch_valid_loss')\n",
    "\n",
    "plt.title(\"Loss vs Epoch\")\n",
    "plt.xlabel(\"epoch\")\n",
    "plt.ylabel(\"loss\")\n",
    "\n",
    "plt.legend()\n",
    "plt.show()"
   ]
  },
  {
   "cell_type": "code",
   "execution_count": 16,
   "id": "50536651",
   "metadata": {},
   "outputs": [
    {
     "data": {
      "image/png": "[encoded data removed]",
      "text/plain": [
       "<Figure size 432x288 with 1 Axes>"
      ]
     },
     "metadata": {
      "needs_background": "light"
     },
     "output_type": "display_data"
    }
   ],
   "source": [
    "x1 = results[\"epoch_train_accs\"]\n",
    "x2 = results[\"epoch_valid_accs\"]\n",
    "y = range(1, epochs + 1)\n",
    "    \n",
    "plt.plot(y, x1, 'g', label='epoch_train_acc')\n",
    "plt.plot(y, x2, 'r', label='epoch_valid_acc')\n",
    "\n",
    "plt.title(\"Accuracy vs Epoch\")\n",
    "plt.xlabel(\"epoch\")\n",
    "plt.ylabel(\"accuracy\")\n",
    "\n",
    "plt.legend()\n",
    "plt.show()"
   ]
  },
  {
   "cell_type": "markdown",
   "id": "53dffbd3",
   "metadata": {},
   "source": [
    "Test constatn lr 0.1"
   ]
  },
  {
   "cell_type": "code",
   "execution_count": 17,
   "id": "69a33dd2",
   "metadata": {},
   "outputs": [
    {
     "name": "stdout",
     "output_type": "stream",
     "text": [
      "Epoch [1/10], Step [100/1250], Loss: 2.3011, Acc: 0.0938\n",
      "Epoch [1/10], Step [200/1250], Loss: 2.3227, Acc: 0.2188\n",
      "Epoch [1/10], Step [300/1250], Loss: 2.3072, Acc: 0.0938\n",
      "Epoch [1/10], Step [400/1250], Loss: 2.1550, Acc: 0.1250\n",
      "Epoch [1/10], Step [500/1250], Loss: 2.2358, Acc: 0.1250\n",
      "Epoch [1/10], Step [600/1250], Loss: 2.1165, Acc: 0.1250\n",
      "Epoch [1/10], Step [700/1250], Loss: 2.0816, Acc: 0.3750\n",
      "Epoch [1/10], Step [800/1250], Loss: 2.1929, Acc: 0.2188\n",
      "Epoch [1/10], Step [900/1250], Loss: 2.1049, Acc: 0.2500\n",
      "Epoch [1/10], Step [1000/1250], Loss: 2.1275, Acc: 0.0938\n",
      "Epoch [1/10], Step [1100/1250], Loss: 2.1076, Acc: 0.1875\n",
      "Epoch [1/10], Step [1200/1250], Loss: 2.0608, Acc: 0.1562\n",
      "Avg train loss: 2.5558, Avg train acc: 0.1504\n",
      "Avg validation loss: 2.1018, Avg validation acc: 0.1569\n",
      "Epoch [2/10], Step [100/1250], Loss: 2.2386, Acc: 0.1562\n",
      "Epoch [2/10], Step [200/1250], Loss: 2.0838, Acc: 0.1875\n",
      "Epoch [2/10], Step [300/1250], Loss: 2.1235, Acc: 0.2500\n",
      "Epoch [2/10], Step [400/1250], Loss: 2.0581, Acc: 0.0625\n",
      "Epoch [2/10], Step [500/1250], Loss: 2.1945, Acc: 0.2188\n",
      "Epoch [2/10], Step [600/1250], Loss: 2.1020, Acc: 0.1875\n",
      "Epoch [2/10], Step [700/1250], Loss: 2.1307, Acc: 0.1875\n",
      "Epoch [2/10], Step [800/1250], Loss: 2.1758, Acc: 0.0938\n",
      "Epoch [2/10], Step [900/1250], Loss: 2.2153, Acc: 0.0938\n",
      "Epoch [2/10], Step [1000/1250], Loss: 2.1183, Acc: 0.2188\n",
      "Epoch [2/10], Step [1100/1250], Loss: 2.1108, Acc: 0.2812\n",
      "Epoch [2/10], Step [1200/1250], Loss: 2.0089, Acc: 0.2188\n",
      "Avg train loss: 2.1246, Avg train acc: 0.1655\n",
      "Avg validation loss: 1.9844, Avg validation acc: 0.1882\n",
      "Epoch [3/10], Step [100/1250], Loss: 1.9657, Acc: 0.1562\n",
      "Epoch [3/10], Step [200/1250], Loss: 2.1982, Acc: 0.0625\n",
      "Epoch [3/10], Step [300/1250], Loss: 2.1084, Acc: 0.2500\n",
      "Epoch [3/10], Step [400/1250], Loss: 2.0280, Acc: 0.1875\n",
      "Epoch [3/10], Step [500/1250], Loss: 2.1198, Acc: 0.1562\n",
      "Epoch [3/10], Step [600/1250], Loss: 2.0742, Acc: 0.1875\n",
      "Epoch [3/10], Step [700/1250], Loss: 2.1640, Acc: 0.0625\n",
      "Epoch [3/10], Step [800/1250], Loss: 2.2335, Acc: 0.1875\n",
      "Epoch [3/10], Step [900/1250], Loss: 2.1011, Acc: 0.2812\n",
      "Epoch [3/10], Step [1000/1250], Loss: 1.9895, Acc: 0.2812\n",
      "Epoch [3/10], Step [1100/1250], Loss: 2.0743, Acc: 0.1875\n",
      "Epoch [3/10], Step [1200/1250], Loss: 2.0267, Acc: 0.2188\n",
      "Avg train loss: 2.1045, Avg train acc: 0.1667\n",
      "Avg validation loss: 2.0504, Avg validation acc: 0.1742\n",
      "Epoch [4/10], Step [100/1250], Loss: 2.0138, Acc: 0.2812\n",
      "Epoch [4/10], Step [200/1250], Loss: 2.0370, Acc: 0.0938\n",
      "Epoch [4/10], Step [300/1250], Loss: 2.0233, Acc: 0.1562\n",
      "Epoch [4/10], Step [400/1250], Loss: 1.8243, Acc: 0.2500\n",
      "Epoch [4/10], Step [500/1250], Loss: 2.1290, Acc: 0.1562\n",
      "Epoch [4/10], Step [600/1250], Loss: 2.0932, Acc: 0.0938\n",
      "Epoch [4/10], Step [700/1250], Loss: 1.9897, Acc: 0.1250\n",
      "Epoch [4/10], Step [800/1250], Loss: 2.1838, Acc: 0.1250\n",
      "Epoch [4/10], Step [900/1250], Loss: 2.1974, Acc: 0.1875\n",
      "Epoch [4/10], Step [1000/1250], Loss: 2.0457, Acc: 0.2188\n",
      "Epoch [4/10], Step [1100/1250], Loss: 2.5566, Acc: 0.0938\n",
      "Epoch [4/10], Step [1200/1250], Loss: 2.0450, Acc: 0.1250\n",
      "Avg train loss: 2.0998, Avg train acc: 0.1754\n",
      "Avg validation loss: 1.9596, Avg validation acc: 0.1815\n",
      "Epoch [5/10], Step [100/1250], Loss: 1.9513, Acc: 0.2188\n",
      "Epoch [5/10], Step [200/1250], Loss: 2.1158, Acc: 0.1875\n",
      "Epoch [5/10], Step [300/1250], Loss: 2.0272, Acc: 0.2500\n",
      "Epoch [5/10], Step [400/1250], Loss: 2.0284, Acc: 0.2500\n",
      "Epoch [5/10], Step [500/1250], Loss: 2.1074, Acc: 0.0625\n",
      "Epoch [5/10], Step [600/1250], Loss: 2.1029, Acc: 0.1875\n",
      "Epoch [5/10], Step [700/1250], Loss: 2.2229, Acc: 0.0625\n",
      "Epoch [5/10], Step [800/1250], Loss: 2.0060, Acc: 0.1875\n",
      "Epoch [5/10], Step [900/1250], Loss: 2.1579, Acc: 0.2188\n",
      "Epoch [5/10], Step [1000/1250], Loss: 2.3295, Acc: 0.0938\n",
      "Epoch [5/10], Step [1100/1250], Loss: 2.0833, Acc: 0.1875\n",
      "Epoch [5/10], Step [1200/1250], Loss: 2.0997, Acc: 0.1875\n",
      "Avg train loss: 2.0875, Avg train acc: 0.1778\n",
      "Avg validation loss: 2.0194, Avg validation acc: 0.1869\n",
      "Epoch [6/10], Step [100/1250], Loss: 2.0542, Acc: 0.2188\n",
      "Epoch [6/10], Step [200/1250], Loss: 1.8994, Acc: 0.3125\n",
      "Epoch [6/10], Step [300/1250], Loss: 2.0664, Acc: 0.1562\n",
      "Epoch [6/10], Step [400/1250], Loss: 2.0224, Acc: 0.2188\n",
      "Epoch [6/10], Step [500/1250], Loss: 2.1850, Acc: 0.2188\n",
      "Epoch [6/10], Step [600/1250], Loss: 2.0538, Acc: 0.2500\n",
      "Epoch [6/10], Step [700/1250], Loss: 1.9897, Acc: 0.1562\n",
      "Epoch [6/10], Step [800/1250], Loss: 2.0778, Acc: 0.1562\n",
      "Epoch [6/10], Step [900/1250], Loss: 2.0592, Acc: 0.2188\n",
      "Epoch [6/10], Step [1000/1250], Loss: 1.9212, Acc: 0.2812\n",
      "Epoch [6/10], Step [1100/1250], Loss: 2.0054, Acc: 0.1250\n",
      "Epoch [6/10], Step [1200/1250], Loss: 2.0813, Acc: 0.1875\n",
      "Avg train loss: 2.0771, Avg train acc: 0.1856\n",
      "Avg validation loss: 1.9968, Avg validation acc: 0.1941\n",
      "Epoch [7/10], Step [100/1250], Loss: 2.1689, Acc: 0.1562\n",
      "Epoch [7/10], Step [200/1250], Loss: 2.2804, Acc: 0.1875\n",
      "Epoch [7/10], Step [300/1250], Loss: 1.9895, Acc: 0.2188\n",
      "Epoch [7/10], Step [400/1250], Loss: 2.2446, Acc: 0.1562\n",
      "Epoch [7/10], Step [500/1250], Loss: 2.1140, Acc: 0.1250\n",
      "Epoch [7/10], Step [600/1250], Loss: 2.0337, Acc: 0.1562\n",
      "Epoch [7/10], Step [700/1250], Loss: 2.0975, Acc: 0.1875\n",
      "Epoch [7/10], Step [800/1250], Loss: 2.0517, Acc: 0.1250\n",
      "Epoch [7/10], Step [900/1250], Loss: 2.1207, Acc: 0.1250\n",
      "Epoch [7/10], Step [1000/1250], Loss: 2.3487, Acc: 0.1562\n",
      "Epoch [7/10], Step [1100/1250], Loss: 1.9900, Acc: 0.2500\n",
      "Epoch [7/10], Step [1200/1250], Loss: 2.1757, Acc: 0.1875\n",
      "Avg train loss: 2.0692, Avg train acc: 0.1872\n",
      "Avg validation loss: 2.0746, Avg validation acc: 0.1708\n",
      "Epoch [8/10], Step [100/1250], Loss: 2.4948, Acc: 0.0312\n",
      "Epoch [8/10], Step [200/1250], Loss: 2.0352, Acc: 0.1562\n",
      "Epoch [8/10], Step [300/1250], Loss: 1.8289, Acc: 0.1562\n",
      "Epoch [8/10], Step [400/1250], Loss: 2.3000, Acc: 0.1875\n",
      "Epoch [8/10], Step [500/1250], Loss: 1.7670, Acc: 0.2188\n",
      "Epoch [8/10], Step [600/1250], Loss: 2.1693, Acc: 0.1562\n",
      "Epoch [8/10], Step [700/1250], Loss: 1.9723, Acc: 0.1250\n",
      "Epoch [8/10], Step [800/1250], Loss: 1.9235, Acc: 0.1875\n",
      "Epoch [8/10], Step [900/1250], Loss: 2.1402, Acc: 0.1875\n",
      "Epoch [8/10], Step [1000/1250], Loss: 2.2481, Acc: 0.3125\n",
      "Epoch [8/10], Step [1100/1250], Loss: 1.8691, Acc: 0.2812\n",
      "Epoch [8/10], Step [1200/1250], Loss: 1.9775, Acc: 0.1562\n",
      "Avg train loss: 2.0685, Avg train acc: 0.1894\n",
      "Avg validation loss: 1.9606, Avg validation acc: 0.1794\n",
      "Epoch [9/10], Step [100/1250], Loss: 1.9976, Acc: 0.2812\n",
      "Epoch [9/10], Step [200/1250], Loss: 1.9466, Acc: 0.2812\n",
      "Epoch [9/10], Step [300/1250], Loss: 2.1499, Acc: 0.2188\n",
      "Epoch [9/10], Step [400/1250], Loss: 2.2084, Acc: 0.2812\n",
      "Epoch [9/10], Step [500/1250], Loss: 2.1130, Acc: 0.2188\n",
      "Epoch [9/10], Step [600/1250], Loss: 2.1749, Acc: 0.1250\n",
      "Epoch [9/10], Step [700/1250], Loss: 2.2584, Acc: 0.2188\n",
      "Epoch [9/10], Step [800/1250], Loss: 2.2259, Acc: 0.1875\n",
      "Epoch [9/10], Step [900/1250], Loss: 1.9261, Acc: 0.1875\n",
      "Epoch [9/10], Step [1000/1250], Loss: 2.0644, Acc: 0.1250\n",
      "Epoch [9/10], Step [1100/1250], Loss: 2.0430, Acc: 0.0938\n",
      "Epoch [9/10], Step [1200/1250], Loss: 2.1017, Acc: 0.1562\n",
      "Avg train loss: 2.0554, Avg train acc: 0.1933\n",
      "Avg validation loss: 1.9518, Avg validation acc: 0.2049\n",
      "Epoch [10/10], Step [100/1250], Loss: 2.2988, Acc: 0.1875\n",
      "Epoch [10/10], Step [200/1250], Loss: 2.0657, Acc: 0.2500\n",
      "Epoch [10/10], Step [300/1250], Loss: 2.1311, Acc: 0.0938\n",
      "Epoch [10/10], Step [400/1250], Loss: 1.8707, Acc: 0.2188\n",
      "Epoch [10/10], Step [500/1250], Loss: 1.9390, Acc: 0.1562\n",
      "Epoch [10/10], Step [600/1250], Loss: 1.9859, Acc: 0.1875\n",
      "Epoch [10/10], Step [700/1250], Loss: 1.9042, Acc: 0.3438\n",
      "Epoch [10/10], Step [800/1250], Loss: 1.9987, Acc: 0.1875\n",
      "Epoch [10/10], Step [900/1250], Loss: 2.0184, Acc: 0.2500\n",
      "Epoch [10/10], Step [1000/1250], Loss: 1.8330, Acc: 0.2812\n",
      "Epoch [10/10], Step [1100/1250], Loss: 1.9893, Acc: 0.2188\n",
      "Epoch [10/10], Step [1200/1250], Loss: 2.1685, Acc: 0.1250\n",
      "Avg train loss: 2.0480, Avg train acc: 0.1959\n",
      "Avg validation loss: 1.8913, Avg validation acc: 0.2489\n"
     ]
    }
   ],
   "source": [
    "model = ResnetX(3, 10)\n",
    "model = to_device(model, device)\n",
    "\n",
    "epochs = 10\n",
    "lr = 0.1\n",
    "loss_func = nn.functional.cross_entropy\n",
    "optim = torch.optim.Adam\n",
    "\n",
    "results = train_constant_lr(model, train_loader, validation_loader, epochs, lr, loss_func, optim)"
   ]
  },
  {
   "cell_type": "code",
   "execution_count": 18,
   "id": "2f59259b",
   "metadata": {},
   "outputs": [
    {
     "name": "stdout",
     "output_type": "stream",
     "text": [
      "test_accuracy:  0.24870207905769348\n"
     ]
    }
   ],
   "source": [
    "test_acc = []\n",
    "\n",
    "for images, labels in test_loader:\n",
    "    with torch.no_grad():\n",
    "        logits = model(images)\n",
    "    accuracy = acc_func(logits, labels)\n",
    "    test_acc.append(accuracy)\n",
    "print(\"test_accuracy: \", torch.stack(test_acc).mean().item())"
   ]
  },
  {
   "cell_type": "code",
   "execution_count": 19,
   "id": "48526d70",
   "metadata": {},
   "outputs": [
    {
     "data": {
      "image/png": "[encoded data removed]",
      "text/plain": [
       "<Figure size 432x288 with 1 Axes>"
      ]
     },
     "metadata": {
      "needs_background": "light"
     },
     "output_type": "display_data"
    }
   ],
   "source": [
    "x1 = results[\"epoch_train_losses\"]\n",
    "x2 = results[\"epoch_valid_losses\"]\n",
    "y = range(1, epochs + 1)\n",
    "    \n",
    "plt.plot(y, x1, 'g', label='epoch_train_loss')\n",
    "plt.plot(y, x2, 'r', label='epoch_valid_loss')\n",
    "\n",
    "plt.title(\"Loss vs Epoch\")\n",
    "plt.xlabel(\"epoch\")\n",
    "plt.ylabel(\"loss\")\n",
    "\n",
    "plt.legend()\n",
    "plt.show()"
   ]
  },
  {
   "cell_type": "code",
   "execution_count": 20,
   "id": "4a1dc154",
   "metadata": {},
   "outputs": [
    {
     "data": {
      "image/png": "[encoded data removed]",
      "text/plain": [
       "<Figure size 432x288 with 1 Axes>"
      ]
     },
     "metadata": {
      "needs_background": "light"
     },
     "output_type": "display_data"
    }
   ],
   "source": [
    "x1 = results[\"epoch_train_accs\"]\n",
    "x2 = results[\"epoch_valid_accs\"]\n",
    "y = range(1, epochs + 1)\n",
    "    \n",
    "plt.plot(y, x1, 'g', label='epoch_train_acc')\n",
    "plt.plot(y, x2, 'r', label='epoch_valid_acc')\n",
    "\n",
    "plt.title(\"Accuracy vs Epoch\")\n",
    "plt.xlabel(\"epoch\")\n",
    "plt.ylabel(\"accuracy\")\n",
    "\n",
    "plt.legend()\n",
    "plt.show()"
   ]
  },
  {
   "cell_type": "code",
   "execution_count": null,
   "id": "f78a8683",
   "metadata": {},
   "outputs": [],
   "source": []
  }
 ],
 "metadata": {
  "kernelspec": {
   "display_name": "Python 3 (ipykernel)",
   "language": "python",
   "name": "python3"
  },
  "language_info": {
   "codemirror_mode": {
    "name": "ipython",
    "version": 3
   },
   "file_extension": ".py",
   "mimetype": "text/x-python",
   "name": "python",
   "nbconvert_exporter": "python",
   "pygments_lexer": "ipython3",
   "version": "3.8.12"
  }
 },
 "nbformat": 4,
 "nbformat_minor": 5
}
